{
 "cells": [
  {
   "cell_type": "markdown",
   "id": "c2ee74e1",
   "metadata": {
    "_cell_guid": "b1076dfc-b9ad-4769-8c92-a6c4dae69d19",
    "_uuid": "8f2839f25d086af736a60e9eeb907d3b93b6e0e5",
    "papermill": {
     "duration": 0.042494,
     "end_time": "2022-02-13T19:54:51.577799",
     "exception": false,
     "start_time": "2022-02-13T19:54:51.535305",
     "status": "completed"
    },
    "tags": []
   },
   "source": [
    "# Introduction\n",
    "\n",
    "## Wine Quality DataSet\n",
    "\n",
    "### This datasets is related to red variants of the Portuguese \"Vinho Verde\" wine.The dataset describes the amount of various chemicals present in wine and their effect on it's quality. The datasets can be viewed as classification or regression tasks.\n",
    "\n",
    "- This data frame contains the following columns:\n",
    "\n",
    "1 - fixed acidity\n",
    "2 - volatile acidity\n",
    "3 - citric acid\n",
    "4 - residual sugar\n",
    "5 - chlorides\n",
    "6 - free sulfur dioxide\n",
    "7 - total sulfur dioxide\n",
    "8 - density\n",
    "9 - pH\n",
    "10 - sulphates\n",
    "11 - alcohol\n",
    "12 - quality"
   ]
  },
  {
   "cell_type": "markdown",
   "id": "5c5ae33c",
   "metadata": {
    "papermill": {
     "duration": 0.040454,
     "end_time": "2022-02-13T19:54:51.659855",
     "exception": false,
     "start_time": "2022-02-13T19:54:51.619401",
     "status": "completed"
    },
    "tags": []
   },
   "source": [
    "# Work plan\n",
    "\n",
    "### Analyze and explore data\n",
    "### Building a Machine Learning Model"
   ]
  },
  {
   "cell_type": "markdown",
   "id": "e673c3ef",
   "metadata": {
    "execution": {
     "iopub.execute_input": "2022-02-13T18:46:19.798592Z",
     "iopub.status.busy": "2022-02-13T18:46:19.798242Z",
     "iopub.status.idle": "2022-02-13T18:46:19.831610Z",
     "shell.execute_reply": "2022-02-13T18:46:19.830752Z",
     "shell.execute_reply.started": "2022-02-13T18:46:19.798498Z"
    },
    "papermill": {
     "duration": 0.041181,
     "end_time": "2022-02-13T19:54:51.741994",
     "exception": false,
     "start_time": "2022-02-13T19:54:51.700813",
     "status": "completed"
    },
    "tags": []
   },
   "source": [
    "# 1- Analyze and explore data"
   ]
  },
  {
   "cell_type": "code",
   "execution_count": 1,
   "id": "bdeda6ff",
   "metadata": {
    "execution": {
     "iopub.execute_input": "2022-02-13T19:54:51.836956Z",
     "iopub.status.busy": "2022-02-13T19:54:51.836309Z",
     "iopub.status.idle": "2022-02-13T19:54:54.120748Z",
     "shell.execute_reply": "2022-02-13T19:54:54.121317Z",
     "shell.execute_reply.started": "2022-02-13T18:47:27.527138Z"
    },
    "papermill": {
     "duration": 2.33808,
     "end_time": "2022-02-13T19:54:54.121607",
     "exception": false,
     "start_time": "2022-02-13T19:54:51.783527",
     "status": "completed"
    },
    "tags": []
   },
   "outputs": [],
   "source": [
    "#Importing the basic librarires fot analysis\n",
    "\n",
    "import numpy as np\n",
    "import pandas as pd\n",
    "import seaborn as sns\n",
    "import matplotlib.pyplot as plt\n",
    "plt.style.use(\"ggplot\")  #using style ggplot\n",
    "\n",
    "%matplotlib inline\n",
    "\n",
    "import plotly.graph_objects as go\n",
    "import plotly.express as px"
   ]
  },
  {
   "cell_type": "code",
   "execution_count": 2,
   "id": "7e152d56",
   "metadata": {
    "execution": {
     "iopub.execute_input": "2022-02-13T19:54:54.209791Z",
     "iopub.status.busy": "2022-02-13T19:54:54.209168Z",
     "iopub.status.idle": "2022-02-13T19:54:54.230308Z",
     "shell.execute_reply": "2022-02-13T19:54:54.230789Z",
     "shell.execute_reply.started": "2022-02-13T18:48:03.518125Z"
    },
    "papermill": {
     "duration": 0.06599,
     "end_time": "2022-02-13T19:54:54.231006",
     "exception": false,
     "start_time": "2022-02-13T19:54:54.165016",
     "status": "completed"
    },
    "tags": []
   },
   "outputs": [],
   "source": [
    "#Importing the dataset\n",
    "\n",
    "df=pd.read_csv(\"../input/wine-quality-dataset/WineQT.csv\")"
   ]
  },
  {
   "cell_type": "code",
   "execution_count": 3,
   "id": "fed577e3",
   "metadata": {
    "execution": {
     "iopub.execute_input": "2022-02-13T19:54:54.323042Z",
     "iopub.status.busy": "2022-02-13T19:54:54.322391Z",
     "iopub.status.idle": "2022-02-13T19:54:54.345406Z",
     "shell.execute_reply": "2022-02-13T19:54:54.345905Z",
     "shell.execute_reply.started": "2022-02-13T18:48:12.456781Z"
    },
    "papermill": {
     "duration": 0.072904,
     "end_time": "2022-02-13T19:54:54.346071",
     "exception": false,
     "start_time": "2022-02-13T19:54:54.273167",
     "status": "completed"
    },
    "tags": []
   },
   "outputs": [
    {
     "data": {
      "text/html": [
       "<div>\n",
       "<style scoped>\n",
       "    .dataframe tbody tr th:only-of-type {\n",
       "        vertical-align: middle;\n",
       "    }\n",
       "\n",
       "    .dataframe tbody tr th {\n",
       "        vertical-align: top;\n",
       "    }\n",
       "\n",
       "    .dataframe thead th {\n",
       "        text-align: right;\n",
       "    }\n",
       "</style>\n",
       "<table border=\"1\" class=\"dataframe\">\n",
       "  <thead>\n",
       "    <tr style=\"text-align: right;\">\n",
       "      <th></th>\n",
       "      <th>fixed acidity</th>\n",
       "      <th>volatile acidity</th>\n",
       "      <th>citric acid</th>\n",
       "      <th>residual sugar</th>\n",
       "      <th>chlorides</th>\n",
       "      <th>free sulfur dioxide</th>\n",
       "      <th>total sulfur dioxide</th>\n",
       "      <th>density</th>\n",
       "      <th>pH</th>\n",
       "      <th>sulphates</th>\n",
       "      <th>alcohol</th>\n",
       "      <th>quality</th>\n",
       "      <th>Id</th>\n",
       "    </tr>\n",
       "  </thead>\n",
       "  <tbody>\n",
       "    <tr>\n",
       "      <th>0</th>\n",
       "      <td>7.4</td>\n",
       "      <td>0.70</td>\n",
       "      <td>0.00</td>\n",
       "      <td>1.9</td>\n",
       "      <td>0.076</td>\n",
       "      <td>11.0</td>\n",
       "      <td>34.0</td>\n",
       "      <td>0.9978</td>\n",
       "      <td>3.51</td>\n",
       "      <td>0.56</td>\n",
       "      <td>9.4</td>\n",
       "      <td>5</td>\n",
       "      <td>0</td>\n",
       "    </tr>\n",
       "    <tr>\n",
       "      <th>1</th>\n",
       "      <td>7.8</td>\n",
       "      <td>0.88</td>\n",
       "      <td>0.00</td>\n",
       "      <td>2.6</td>\n",
       "      <td>0.098</td>\n",
       "      <td>25.0</td>\n",
       "      <td>67.0</td>\n",
       "      <td>0.9968</td>\n",
       "      <td>3.20</td>\n",
       "      <td>0.68</td>\n",
       "      <td>9.8</td>\n",
       "      <td>5</td>\n",
       "      <td>1</td>\n",
       "    </tr>\n",
       "    <tr>\n",
       "      <th>2</th>\n",
       "      <td>7.8</td>\n",
       "      <td>0.76</td>\n",
       "      <td>0.04</td>\n",
       "      <td>2.3</td>\n",
       "      <td>0.092</td>\n",
       "      <td>15.0</td>\n",
       "      <td>54.0</td>\n",
       "      <td>0.9970</td>\n",
       "      <td>3.26</td>\n",
       "      <td>0.65</td>\n",
       "      <td>9.8</td>\n",
       "      <td>5</td>\n",
       "      <td>2</td>\n",
       "    </tr>\n",
       "    <tr>\n",
       "      <th>3</th>\n",
       "      <td>11.2</td>\n",
       "      <td>0.28</td>\n",
       "      <td>0.56</td>\n",
       "      <td>1.9</td>\n",
       "      <td>0.075</td>\n",
       "      <td>17.0</td>\n",
       "      <td>60.0</td>\n",
       "      <td>0.9980</td>\n",
       "      <td>3.16</td>\n",
       "      <td>0.58</td>\n",
       "      <td>9.8</td>\n",
       "      <td>6</td>\n",
       "      <td>3</td>\n",
       "    </tr>\n",
       "    <tr>\n",
       "      <th>4</th>\n",
       "      <td>7.4</td>\n",
       "      <td>0.70</td>\n",
       "      <td>0.00</td>\n",
       "      <td>1.9</td>\n",
       "      <td>0.076</td>\n",
       "      <td>11.0</td>\n",
       "      <td>34.0</td>\n",
       "      <td>0.9978</td>\n",
       "      <td>3.51</td>\n",
       "      <td>0.56</td>\n",
       "      <td>9.4</td>\n",
       "      <td>5</td>\n",
       "      <td>4</td>\n",
       "    </tr>\n",
       "  </tbody>\n",
       "</table>\n",
       "</div>"
      ],
      "text/plain": [
       "   fixed acidity  volatile acidity  citric acid  residual sugar  chlorides  \\\n",
       "0            7.4              0.70         0.00             1.9      0.076   \n",
       "1            7.8              0.88         0.00             2.6      0.098   \n",
       "2            7.8              0.76         0.04             2.3      0.092   \n",
       "3           11.2              0.28         0.56             1.9      0.075   \n",
       "4            7.4              0.70         0.00             1.9      0.076   \n",
       "\n",
       "   free sulfur dioxide  total sulfur dioxide  density    pH  sulphates  \\\n",
       "0                 11.0                  34.0   0.9978  3.51       0.56   \n",
       "1                 25.0                  67.0   0.9968  3.20       0.68   \n",
       "2                 15.0                  54.0   0.9970  3.26       0.65   \n",
       "3                 17.0                  60.0   0.9980  3.16       0.58   \n",
       "4                 11.0                  34.0   0.9978  3.51       0.56   \n",
       "\n",
       "   alcohol  quality  Id  \n",
       "0      9.4        5   0  \n",
       "1      9.8        5   1  \n",
       "2      9.8        5   2  \n",
       "3      9.8        6   3  \n",
       "4      9.4        5   4  "
      ]
     },
     "execution_count": 3,
     "metadata": {},
     "output_type": "execute_result"
    }
   ],
   "source": [
    "# looking the data set\n",
    "df.head()"
   ]
  },
  {
   "cell_type": "code",
   "execution_count": 4,
   "id": "2a7cc8a9",
   "metadata": {
    "execution": {
     "iopub.execute_input": "2022-02-13T19:54:54.433810Z",
     "iopub.status.busy": "2022-02-13T19:54:54.433214Z",
     "iopub.status.idle": "2022-02-13T19:54:54.438262Z",
     "shell.execute_reply": "2022-02-13T19:54:54.438856Z",
     "shell.execute_reply.started": "2022-02-13T18:48:47.127642Z"
    },
    "papermill": {
     "duration": 0.050607,
     "end_time": "2022-02-13T19:54:54.439017",
     "exception": false,
     "start_time": "2022-02-13T19:54:54.388410",
     "status": "completed"
    },
    "tags": []
   },
   "outputs": [
    {
     "name": "stdout",
     "output_type": "stream",
     "text": [
      "Shape The DataSet  (1143, 13)\n"
     ]
    }
   ],
   "source": [
    " #print the shape dataset\n",
    "print(\"Shape The DataSet \", df.shape )"
   ]
  },
  {
   "cell_type": "code",
   "execution_count": 5,
   "id": "bf5539fb",
   "metadata": {
    "execution": {
     "iopub.execute_input": "2022-02-13T19:54:54.528678Z",
     "iopub.status.busy": "2022-02-13T19:54:54.527715Z",
     "iopub.status.idle": "2022-02-13T19:54:54.550185Z",
     "shell.execute_reply": "2022-02-13T19:54:54.550726Z",
     "shell.execute_reply.started": "2022-02-13T18:49:03.816843Z"
    },
    "papermill": {
     "duration": 0.069027,
     "end_time": "2022-02-13T19:54:54.550909",
     "exception": false,
     "start_time": "2022-02-13T19:54:54.481882",
     "status": "completed"
    },
    "tags": []
   },
   "outputs": [
    {
     "name": "stdout",
     "output_type": "stream",
     "text": [
      "<class 'pandas.core.frame.DataFrame'>\n",
      "RangeIndex: 1143 entries, 0 to 1142\n",
      "Data columns (total 13 columns):\n",
      " #   Column                Non-Null Count  Dtype  \n",
      "---  ------                --------------  -----  \n",
      " 0   fixed acidity         1143 non-null   float64\n",
      " 1   volatile acidity      1143 non-null   float64\n",
      " 2   citric acid           1143 non-null   float64\n",
      " 3   residual sugar        1143 non-null   float64\n",
      " 4   chlorides             1143 non-null   float64\n",
      " 5   free sulfur dioxide   1143 non-null   float64\n",
      " 6   total sulfur dioxide  1143 non-null   float64\n",
      " 7   density               1143 non-null   float64\n",
      " 8   pH                    1143 non-null   float64\n",
      " 9   sulphates             1143 non-null   float64\n",
      " 10  alcohol               1143 non-null   float64\n",
      " 11  quality               1143 non-null   int64  \n",
      " 12  Id                    1143 non-null   int64  \n",
      "dtypes: float64(11), int64(2)\n",
      "memory usage: 116.2 KB\n"
     ]
    }
   ],
   "source": [
    "#Checking the dtypes of all the columns\n",
    "\n",
    "df.info()"
   ]
  },
  {
   "cell_type": "code",
   "execution_count": 6,
   "id": "731fd332",
   "metadata": {
    "execution": {
     "iopub.execute_input": "2022-02-13T19:54:54.642604Z",
     "iopub.status.busy": "2022-02-13T19:54:54.641630Z",
     "iopub.status.idle": "2022-02-13T19:54:54.647388Z",
     "shell.execute_reply": "2022-02-13T19:54:54.647904Z",
     "shell.execute_reply.started": "2022-02-13T18:49:28.076470Z"
    },
    "papermill": {
     "duration": 0.054412,
     "end_time": "2022-02-13T19:54:54.648069",
     "exception": false,
     "start_time": "2022-02-13T19:54:54.593657",
     "status": "completed"
    },
    "tags": []
   },
   "outputs": [
    {
     "data": {
      "text/plain": [
       "fixed acidity           0\n",
       "volatile acidity        0\n",
       "citric acid             0\n",
       "residual sugar          0\n",
       "chlorides               0\n",
       "free sulfur dioxide     0\n",
       "total sulfur dioxide    0\n",
       "density                 0\n",
       "pH                      0\n",
       "sulphates               0\n",
       "alcohol                 0\n",
       "quality                 0\n",
       "Id                      0\n",
       "dtype: int64"
      ]
     },
     "execution_count": 6,
     "metadata": {},
     "output_type": "execute_result"
    }
   ],
   "source": [
    "#checking null value \n",
    "df.isna().sum()"
   ]
  },
  {
   "cell_type": "code",
   "execution_count": 7,
   "id": "a097c4c6",
   "metadata": {
    "execution": {
     "iopub.execute_input": "2022-02-13T19:54:54.737644Z",
     "iopub.status.busy": "2022-02-13T19:54:54.737039Z",
     "iopub.status.idle": "2022-02-13T19:54:54.740212Z",
     "shell.execute_reply": "2022-02-13T19:54:54.740769Z",
     "shell.execute_reply.started": "2022-02-13T18:49:50.445745Z"
    },
    "papermill": {
     "duration": 0.049561,
     "end_time": "2022-02-13T19:54:54.740938",
     "exception": false,
     "start_time": "2022-02-13T19:54:54.691377",
     "status": "completed"
    },
    "tags": []
   },
   "outputs": [],
   "source": [
    "# No missing value"
   ]
  },
  {
   "cell_type": "code",
   "execution_count": 8,
   "id": "ee4756bd",
   "metadata": {
    "execution": {
     "iopub.execute_input": "2022-02-13T19:54:54.831989Z",
     "iopub.status.busy": "2022-02-13T19:54:54.831388Z",
     "iopub.status.idle": "2022-02-13T19:54:54.885596Z",
     "shell.execute_reply": "2022-02-13T19:54:54.885087Z",
     "shell.execute_reply.started": "2022-02-13T18:50:03.417381Z"
    },
    "papermill": {
     "duration": 0.099971,
     "end_time": "2022-02-13T19:54:54.885735",
     "exception": false,
     "start_time": "2022-02-13T19:54:54.785764",
     "status": "completed"
    },
    "tags": []
   },
   "outputs": [
    {
     "data": {
      "text/html": [
       "<div>\n",
       "<style scoped>\n",
       "    .dataframe tbody tr th:only-of-type {\n",
       "        vertical-align: middle;\n",
       "    }\n",
       "\n",
       "    .dataframe tbody tr th {\n",
       "        vertical-align: top;\n",
       "    }\n",
       "\n",
       "    .dataframe thead th {\n",
       "        text-align: right;\n",
       "    }\n",
       "</style>\n",
       "<table border=\"1\" class=\"dataframe\">\n",
       "  <thead>\n",
       "    <tr style=\"text-align: right;\">\n",
       "      <th></th>\n",
       "      <th>fixed acidity</th>\n",
       "      <th>volatile acidity</th>\n",
       "      <th>citric acid</th>\n",
       "      <th>residual sugar</th>\n",
       "      <th>chlorides</th>\n",
       "      <th>free sulfur dioxide</th>\n",
       "      <th>total sulfur dioxide</th>\n",
       "      <th>density</th>\n",
       "      <th>pH</th>\n",
       "      <th>sulphates</th>\n",
       "      <th>alcohol</th>\n",
       "      <th>quality</th>\n",
       "      <th>Id</th>\n",
       "    </tr>\n",
       "  </thead>\n",
       "  <tbody>\n",
       "    <tr>\n",
       "      <th>count</th>\n",
       "      <td>1143.00</td>\n",
       "      <td>1143.00</td>\n",
       "      <td>1143.00</td>\n",
       "      <td>1143.00</td>\n",
       "      <td>1143.00</td>\n",
       "      <td>1143.00</td>\n",
       "      <td>1143.00</td>\n",
       "      <td>1143.00</td>\n",
       "      <td>1143.00</td>\n",
       "      <td>1143.00</td>\n",
       "      <td>1143.00</td>\n",
       "      <td>1143.00</td>\n",
       "      <td>1143.00</td>\n",
       "    </tr>\n",
       "    <tr>\n",
       "      <th>mean</th>\n",
       "      <td>8.31</td>\n",
       "      <td>0.53</td>\n",
       "      <td>0.27</td>\n",
       "      <td>2.53</td>\n",
       "      <td>0.09</td>\n",
       "      <td>15.62</td>\n",
       "      <td>45.91</td>\n",
       "      <td>1.00</td>\n",
       "      <td>3.31</td>\n",
       "      <td>0.66</td>\n",
       "      <td>10.44</td>\n",
       "      <td>5.66</td>\n",
       "      <td>804.97</td>\n",
       "    </tr>\n",
       "    <tr>\n",
       "      <th>std</th>\n",
       "      <td>1.75</td>\n",
       "      <td>0.18</td>\n",
       "      <td>0.20</td>\n",
       "      <td>1.36</td>\n",
       "      <td>0.05</td>\n",
       "      <td>10.25</td>\n",
       "      <td>32.78</td>\n",
       "      <td>0.00</td>\n",
       "      <td>0.16</td>\n",
       "      <td>0.17</td>\n",
       "      <td>1.08</td>\n",
       "      <td>0.81</td>\n",
       "      <td>464.00</td>\n",
       "    </tr>\n",
       "    <tr>\n",
       "      <th>min</th>\n",
       "      <td>4.60</td>\n",
       "      <td>0.12</td>\n",
       "      <td>0.00</td>\n",
       "      <td>0.90</td>\n",
       "      <td>0.01</td>\n",
       "      <td>1.00</td>\n",
       "      <td>6.00</td>\n",
       "      <td>0.99</td>\n",
       "      <td>2.74</td>\n",
       "      <td>0.33</td>\n",
       "      <td>8.40</td>\n",
       "      <td>3.00</td>\n",
       "      <td>0.00</td>\n",
       "    </tr>\n",
       "    <tr>\n",
       "      <th>25%</th>\n",
       "      <td>7.10</td>\n",
       "      <td>0.39</td>\n",
       "      <td>0.09</td>\n",
       "      <td>1.90</td>\n",
       "      <td>0.07</td>\n",
       "      <td>7.00</td>\n",
       "      <td>21.00</td>\n",
       "      <td>1.00</td>\n",
       "      <td>3.20</td>\n",
       "      <td>0.55</td>\n",
       "      <td>9.50</td>\n",
       "      <td>5.00</td>\n",
       "      <td>411.00</td>\n",
       "    </tr>\n",
       "    <tr>\n",
       "      <th>50%</th>\n",
       "      <td>7.90</td>\n",
       "      <td>0.52</td>\n",
       "      <td>0.25</td>\n",
       "      <td>2.20</td>\n",
       "      <td>0.08</td>\n",
       "      <td>13.00</td>\n",
       "      <td>37.00</td>\n",
       "      <td>1.00</td>\n",
       "      <td>3.31</td>\n",
       "      <td>0.62</td>\n",
       "      <td>10.20</td>\n",
       "      <td>6.00</td>\n",
       "      <td>794.00</td>\n",
       "    </tr>\n",
       "    <tr>\n",
       "      <th>75%</th>\n",
       "      <td>9.10</td>\n",
       "      <td>0.64</td>\n",
       "      <td>0.42</td>\n",
       "      <td>2.60</td>\n",
       "      <td>0.09</td>\n",
       "      <td>21.00</td>\n",
       "      <td>61.00</td>\n",
       "      <td>1.00</td>\n",
       "      <td>3.40</td>\n",
       "      <td>0.73</td>\n",
       "      <td>11.10</td>\n",
       "      <td>6.00</td>\n",
       "      <td>1209.50</td>\n",
       "    </tr>\n",
       "    <tr>\n",
       "      <th>max</th>\n",
       "      <td>15.90</td>\n",
       "      <td>1.58</td>\n",
       "      <td>1.00</td>\n",
       "      <td>15.50</td>\n",
       "      <td>0.61</td>\n",
       "      <td>68.00</td>\n",
       "      <td>289.00</td>\n",
       "      <td>1.00</td>\n",
       "      <td>4.01</td>\n",
       "      <td>2.00</td>\n",
       "      <td>14.90</td>\n",
       "      <td>8.00</td>\n",
       "      <td>1597.00</td>\n",
       "    </tr>\n",
       "  </tbody>\n",
       "</table>\n",
       "</div>"
      ],
      "text/plain": [
       "       fixed acidity  volatile acidity  citric acid  residual sugar  \\\n",
       "count        1143.00           1143.00      1143.00         1143.00   \n",
       "mean            8.31              0.53         0.27            2.53   \n",
       "std             1.75              0.18         0.20            1.36   \n",
       "min             4.60              0.12         0.00            0.90   \n",
       "25%             7.10              0.39         0.09            1.90   \n",
       "50%             7.90              0.52         0.25            2.20   \n",
       "75%             9.10              0.64         0.42            2.60   \n",
       "max            15.90              1.58         1.00           15.50   \n",
       "\n",
       "       chlorides  free sulfur dioxide  total sulfur dioxide  density       pH  \\\n",
       "count    1143.00              1143.00               1143.00  1143.00  1143.00   \n",
       "mean        0.09                15.62                 45.91     1.00     3.31   \n",
       "std         0.05                10.25                 32.78     0.00     0.16   \n",
       "min         0.01                 1.00                  6.00     0.99     2.74   \n",
       "25%         0.07                 7.00                 21.00     1.00     3.20   \n",
       "50%         0.08                13.00                 37.00     1.00     3.31   \n",
       "75%         0.09                21.00                 61.00     1.00     3.40   \n",
       "max         0.61                68.00                289.00     1.00     4.01   \n",
       "\n",
       "       sulphates  alcohol  quality       Id  \n",
       "count    1143.00  1143.00  1143.00  1143.00  \n",
       "mean        0.66    10.44     5.66   804.97  \n",
       "std         0.17     1.08     0.81   464.00  \n",
       "min         0.33     8.40     3.00     0.00  \n",
       "25%         0.55     9.50     5.00   411.00  \n",
       "50%         0.62    10.20     6.00   794.00  \n",
       "75%         0.73    11.10     6.00  1209.50  \n",
       "max         2.00    14.90     8.00  1597.00  "
      ]
     },
     "execution_count": 8,
     "metadata": {},
     "output_type": "execute_result"
    }
   ],
   "source": [
    "# Describe value data set\n",
    "df.describe().round(2)"
   ]
  },
  {
   "cell_type": "code",
   "execution_count": 9,
   "id": "20456696",
   "metadata": {
    "execution": {
     "iopub.execute_input": "2022-02-13T19:54:54.979683Z",
     "iopub.status.busy": "2022-02-13T19:54:54.979071Z",
     "iopub.status.idle": "2022-02-13T19:54:54.981845Z",
     "shell.execute_reply": "2022-02-13T19:54:54.981343Z",
     "shell.execute_reply.started": "2022-02-13T18:50:24.806898Z"
    },
    "papermill": {
     "duration": 0.051954,
     "end_time": "2022-02-13T19:54:54.981977",
     "exception": false,
     "start_time": "2022-02-13T19:54:54.930023",
     "status": "completed"
    },
    "tags": []
   },
   "outputs": [],
   "source": [
    "# Drop columns ID , because we don't need it.\n",
    "\n",
    "df.drop(columns=\"Id\",inplace=True)"
   ]
  },
  {
   "cell_type": "code",
   "execution_count": 10,
   "id": "6e524b94",
   "metadata": {
    "execution": {
     "iopub.execute_input": "2022-02-13T19:54:55.075609Z",
     "iopub.status.busy": "2022-02-13T19:54:55.074807Z",
     "iopub.status.idle": "2022-02-13T19:54:55.078040Z",
     "shell.execute_reply": "2022-02-13T19:54:55.078559Z",
     "shell.execute_reply.started": "2022-02-13T18:52:02.726733Z"
    },
    "papermill": {
     "duration": 0.052817,
     "end_time": "2022-02-13T19:54:55.078722",
     "exception": false,
     "start_time": "2022-02-13T19:54:55.025905",
     "status": "completed"
    },
    "tags": []
   },
   "outputs": [
    {
     "name": "stdout",
     "output_type": "stream",
     "text": [
      "The Value Quality  [5 6 7 4 8 3]\n"
     ]
    }
   ],
   "source": [
    "#the unique quality \n",
    "\n",
    "print(\"The Value Quality \",df[\"quality\"].unique())"
   ]
  },
  {
   "cell_type": "code",
   "execution_count": 11,
   "id": "2169f85b",
   "metadata": {
    "execution": {
     "iopub.execute_input": "2022-02-13T19:54:55.171089Z",
     "iopub.status.busy": "2022-02-13T19:54:55.170072Z",
     "iopub.status.idle": "2022-02-13T19:54:55.766522Z",
     "shell.execute_reply": "2022-02-13T19:54:55.767030Z",
     "shell.execute_reply.started": "2022-02-13T18:53:04.359467Z"
    },
    "papermill": {
     "duration": 0.644308,
     "end_time": "2022-02-13T19:54:55.767216",
     "exception": false,
     "start_time": "2022-02-13T19:54:55.122908",
     "status": "completed"
    },
    "tags": []
   },
   "outputs": [
    {
     "data": {
      "text/plain": [
       "<AxesSubplot:>"
      ]
     },
     "execution_count": 11,
     "metadata": {},
     "output_type": "execute_result"
    },
    {
     "data": {
      "image/png": "[encoded data removed]",
      "text/plain": [
       "<Figure size 1080x504 with 1 Axes>"
      ]
     },
     "metadata": {
      "needs_background": "light"
     },
     "output_type": "display_data"
    }
   ],
   "source": [
    "#graph all the data set - just for looking\n",
    "df.plot(figsize=(15,7))"
   ]
  },
  {
   "cell_type": "code",
   "execution_count": 12,
   "id": "ea4a474c",
   "metadata": {
    "execution": {
     "iopub.execute_input": "2022-02-13T19:54:55.867542Z",
     "iopub.status.busy": "2022-02-13T19:54:55.866901Z",
     "iopub.status.idle": "2022-02-13T19:54:55.888286Z",
     "shell.execute_reply": "2022-02-13T19:54:55.888786Z",
     "shell.execute_reply.started": "2022-02-13T18:53:35.206538Z"
    },
    "papermill": {
     "duration": 0.073292,
     "end_time": "2022-02-13T19:54:55.888957",
     "exception": false,
     "start_time": "2022-02-13T19:54:55.815665",
     "status": "completed"
    },
    "tags": []
   },
   "outputs": [
    {
     "data": {
      "text/html": [
       "<div>\n",
       "<style scoped>\n",
       "    .dataframe tbody tr th:only-of-type {\n",
       "        vertical-align: middle;\n",
       "    }\n",
       "\n",
       "    .dataframe tbody tr th {\n",
       "        vertical-align: top;\n",
       "    }\n",
       "\n",
       "    .dataframe thead th {\n",
       "        text-align: right;\n",
       "    }\n",
       "</style>\n",
       "<table border=\"1\" class=\"dataframe\">\n",
       "  <thead>\n",
       "    <tr style=\"text-align: right;\">\n",
       "      <th></th>\n",
       "      <th>fixed acidity</th>\n",
       "      <th>volatile acidity</th>\n",
       "      <th>citric acid</th>\n",
       "      <th>residual sugar</th>\n",
       "      <th>chlorides</th>\n",
       "      <th>free sulfur dioxide</th>\n",
       "      <th>total sulfur dioxide</th>\n",
       "      <th>density</th>\n",
       "      <th>pH</th>\n",
       "      <th>sulphates</th>\n",
       "      <th>alcohol</th>\n",
       "    </tr>\n",
       "    <tr>\n",
       "      <th>quality</th>\n",
       "      <th></th>\n",
       "      <th></th>\n",
       "      <th></th>\n",
       "      <th></th>\n",
       "      <th></th>\n",
       "      <th></th>\n",
       "      <th></th>\n",
       "      <th></th>\n",
       "      <th></th>\n",
       "      <th></th>\n",
       "      <th></th>\n",
       "    </tr>\n",
       "  </thead>\n",
       "  <tbody>\n",
       "    <tr>\n",
       "      <th>3</th>\n",
       "      <td>8.450000</td>\n",
       "      <td>0.897500</td>\n",
       "      <td>0.211667</td>\n",
       "      <td>2.666667</td>\n",
       "      <td>0.105333</td>\n",
       "      <td>8.166667</td>\n",
       "      <td>24.500000</td>\n",
       "      <td>0.997682</td>\n",
       "      <td>3.361667</td>\n",
       "      <td>0.550000</td>\n",
       "      <td>9.691667</td>\n",
       "    </tr>\n",
       "    <tr>\n",
       "      <th>4</th>\n",
       "      <td>7.809091</td>\n",
       "      <td>0.700000</td>\n",
       "      <td>0.165758</td>\n",
       "      <td>2.566667</td>\n",
       "      <td>0.094788</td>\n",
       "      <td>14.848485</td>\n",
       "      <td>40.606061</td>\n",
       "      <td>0.996669</td>\n",
       "      <td>3.391212</td>\n",
       "      <td>0.637879</td>\n",
       "      <td>10.260606</td>\n",
       "    </tr>\n",
       "    <tr>\n",
       "      <th>5</th>\n",
       "      <td>8.161077</td>\n",
       "      <td>0.585280</td>\n",
       "      <td>0.240124</td>\n",
       "      <td>2.540476</td>\n",
       "      <td>0.091770</td>\n",
       "      <td>16.612836</td>\n",
       "      <td>55.299172</td>\n",
       "      <td>0.997073</td>\n",
       "      <td>3.302091</td>\n",
       "      <td>0.613375</td>\n",
       "      <td>9.902277</td>\n",
       "    </tr>\n",
       "    <tr>\n",
       "      <th>6</th>\n",
       "      <td>8.317749</td>\n",
       "      <td>0.504957</td>\n",
       "      <td>0.263680</td>\n",
       "      <td>2.444805</td>\n",
       "      <td>0.085281</td>\n",
       "      <td>15.215368</td>\n",
       "      <td>39.941558</td>\n",
       "      <td>0.996610</td>\n",
       "      <td>3.323788</td>\n",
       "      <td>0.676537</td>\n",
       "      <td>10.655339</td>\n",
       "    </tr>\n",
       "    <tr>\n",
       "      <th>7</th>\n",
       "      <td>8.851049</td>\n",
       "      <td>0.393671</td>\n",
       "      <td>0.386573</td>\n",
       "      <td>2.760140</td>\n",
       "      <td>0.075217</td>\n",
       "      <td>14.538462</td>\n",
       "      <td>37.489510</td>\n",
       "      <td>0.996071</td>\n",
       "      <td>3.287133</td>\n",
       "      <td>0.743566</td>\n",
       "      <td>11.482634</td>\n",
       "    </tr>\n",
       "    <tr>\n",
       "      <th>8</th>\n",
       "      <td>8.806250</td>\n",
       "      <td>0.410000</td>\n",
       "      <td>0.432500</td>\n",
       "      <td>2.643750</td>\n",
       "      <td>0.070187</td>\n",
       "      <td>11.062500</td>\n",
       "      <td>29.375000</td>\n",
       "      <td>0.995553</td>\n",
       "      <td>3.240625</td>\n",
       "      <td>0.766250</td>\n",
       "      <td>11.937500</td>\n",
       "    </tr>\n",
       "  </tbody>\n",
       "</table>\n",
       "</div>"
      ],
      "text/plain": [
       "         fixed acidity  volatile acidity  citric acid  residual sugar  \\\n",
       "quality                                                                 \n",
       "3             8.450000          0.897500     0.211667        2.666667   \n",
       "4             7.809091          0.700000     0.165758        2.566667   \n",
       "5             8.161077          0.585280     0.240124        2.540476   \n",
       "6             8.317749          0.504957     0.263680        2.444805   \n",
       "7             8.851049          0.393671     0.386573        2.760140   \n",
       "8             8.806250          0.410000     0.432500        2.643750   \n",
       "\n",
       "         chlorides  free sulfur dioxide  total sulfur dioxide   density  \\\n",
       "quality                                                                   \n",
       "3         0.105333             8.166667             24.500000  0.997682   \n",
       "4         0.094788            14.848485             40.606061  0.996669   \n",
       "5         0.091770            16.612836             55.299172  0.997073   \n",
       "6         0.085281            15.215368             39.941558  0.996610   \n",
       "7         0.075217            14.538462             37.489510  0.996071   \n",
       "8         0.070187            11.062500             29.375000  0.995553   \n",
       "\n",
       "               pH  sulphates    alcohol  \n",
       "quality                                  \n",
       "3        3.361667   0.550000   9.691667  \n",
       "4        3.391212   0.637879  10.260606  \n",
       "5        3.302091   0.613375   9.902277  \n",
       "6        3.323788   0.676537  10.655339  \n",
       "7        3.287133   0.743566  11.482634  \n",
       "8        3.240625   0.766250  11.937500  "
      ]
     },
     "execution_count": 12,
     "metadata": {},
     "output_type": "execute_result"
    }
   ],
   "source": [
    "# making Group by \n",
    "\n",
    "ave_qu = df.groupby(\"quality\").mean()\n",
    "ave_qu"
   ]
  },
  {
   "cell_type": "code",
   "execution_count": 13,
   "id": "3a3f5914",
   "metadata": {
    "execution": {
     "iopub.execute_input": "2022-02-13T19:54:55.991414Z",
     "iopub.status.busy": "2022-02-13T19:54:55.990440Z",
     "iopub.status.idle": "2022-02-13T19:54:56.443224Z",
     "shell.execute_reply": "2022-02-13T19:54:56.443717Z",
     "shell.execute_reply.started": "2022-02-13T18:54:03.326066Z"
    },
    "papermill": {
     "duration": 0.50563,
     "end_time": "2022-02-13T19:54:56.443887",
     "exception": false,
     "start_time": "2022-02-13T19:54:55.938257",
     "status": "completed"
    },
    "tags": []
   },
   "outputs": [
    {
     "data": {
      "text/plain": [
       "<AxesSubplot:xlabel='quality'>"
      ]
     },
     "execution_count": 13,
     "metadata": {},
     "output_type": "execute_result"
    },
    {
     "data": {
      "image/png": "[encoded data removed]",
      "text/plain": [
       "<Figure size 1440x720 with 1 Axes>"
      ]
     },
     "metadata": {
      "needs_background": "light"
     },
     "output_type": "display_data"
    }
   ],
   "source": [
    "# graph the group by\n",
    "\n",
    "ave_qu.plot(kind=\"bar\",figsize=(20,10))"
   ]
  },
  {
   "cell_type": "code",
   "execution_count": 14,
   "id": "2865b091",
   "metadata": {
    "execution": {
     "iopub.execute_input": "2022-02-13T19:54:56.549198Z",
     "iopub.status.busy": "2022-02-13T19:54:56.548419Z",
     "iopub.status.idle": "2022-02-13T19:54:56.551058Z",
     "shell.execute_reply": "2022-02-13T19:54:56.550591Z",
     "shell.execute_reply.started": "2022-02-13T18:55:50.512573Z"
    },
    "papermill": {
     "duration": 0.057132,
     "end_time": "2022-02-13T19:54:56.551213",
     "exception": false,
     "start_time": "2022-02-13T19:54:56.494081",
     "status": "completed"
    },
    "tags": []
   },
   "outputs": [],
   "source": [
    "# now we see  the effect of the elements on the quality"
   ]
  },
  {
   "cell_type": "code",
   "execution_count": 15,
   "id": "f3a254d5",
   "metadata": {
    "execution": {
     "iopub.execute_input": "2022-02-13T19:54:56.678479Z",
     "iopub.status.busy": "2022-02-13T19:54:56.673829Z",
     "iopub.status.idle": "2022-02-13T19:54:58.017599Z",
     "shell.execute_reply": "2022-02-13T19:54:58.018172Z",
     "shell.execute_reply.started": "2022-02-13T18:57:35.878118Z"
    },
    "papermill": {
     "duration": 1.416726,
     "end_time": "2022-02-13T19:54:58.018350",
     "exception": false,
     "start_time": "2022-02-13T19:54:56.601624",
     "status": "completed"
    },
    "tags": []
   },
   "outputs": [
    {
     "data": {
      "image/png": "[encoded data removed]",
      "text/plain": [
       "<Figure size 1440x504 with 1 Axes>"
      ]
     },
     "metadata": {
      "needs_background": "light"
     },
     "output_type": "display_data"
    }
   ],
   "source": [
    "# let see effect some of elements on the quality - details\n",
    "plt.figure(figsize=(20,7))\n",
    "sns.lineplot(data=df, x=\"quality\",y=\"volatile acidity\",label=\"Volatile Acidity\")\n",
    "sns.lineplot(data=df, x=\"quality\",y=\"citric acid\",label=\"Citric Acid\")\n",
    "sns.lineplot(data=df, x=\"quality\",y=\"chlorides\",label=\"chlorides\")\n",
    "sns.lineplot(data=df, x=\"quality\",y=\"pH\",label=\"PH\")\n",
    "sns.lineplot(data=df, x=\"quality\",y=\"sulphates\",label=\"Sulphates\")\n",
    "plt.ylabel(\"Quantity\")\n",
    "plt.title(\"Impact on quality\")\n",
    "plt.legend()\n",
    "plt.show()\n"
   ]
  },
  {
   "cell_type": "code",
   "execution_count": 16,
   "id": "9eaa3433",
   "metadata": {
    "execution": {
     "iopub.execute_input": "2022-02-13T19:54:58.127199Z",
     "iopub.status.busy": "2022-02-13T19:54:58.126145Z",
     "iopub.status.idle": "2022-02-13T19:54:58.129555Z",
     "shell.execute_reply": "2022-02-13T19:54:58.130177Z",
     "shell.execute_reply.started": "2022-02-13T18:59:02.965556Z"
    },
    "papermill": {
     "duration": 0.059414,
     "end_time": "2022-02-13T19:54:58.130346",
     "exception": false,
     "start_time": "2022-02-13T19:54:58.070932",
     "status": "completed"
    },
    "tags": []
   },
   "outputs": [],
   "source": [
    "# we see no high effect this elements on the quality"
   ]
  },
  {
   "cell_type": "code",
   "execution_count": 17,
   "id": "d6dc0672",
   "metadata": {
    "execution": {
     "iopub.execute_input": "2022-02-13T19:54:58.242014Z",
     "iopub.status.busy": "2022-02-13T19:54:58.241011Z",
     "iopub.status.idle": "2022-02-13T19:54:58.643690Z",
     "shell.execute_reply": "2022-02-13T19:54:58.643141Z",
     "shell.execute_reply.started": "2022-02-13T19:00:06.166701Z"
    },
    "papermill": {
     "duration": 0.46152,
     "end_time": "2022-02-13T19:54:58.643838",
     "exception": false,
     "start_time": "2022-02-13T19:54:58.182318",
     "status": "completed"
    },
    "tags": []
   },
   "outputs": [
    {
     "data": {
      "text/plain": [
       "<AxesSubplot:xlabel='quality', ylabel='alcohol'>"
      ]
     },
     "execution_count": 17,
     "metadata": {},
     "output_type": "execute_result"
    },
    {
     "data": {
      "image/png": "[encoded data removed]",
      "text/plain": [
       "<Figure size 1080x504 with 1 Axes>"
      ]
     },
     "metadata": {
      "needs_background": "light"
     },
     "output_type": "display_data"
    }
   ],
   "source": [
    "# effect the Alcohol in the quality\n",
    "\n",
    "plt.figure(figsize=(15,7))\n",
    "sns.lineplot(data=df, x=\"quality\",y=\"alcohol\")"
   ]
  },
  {
   "cell_type": "code",
   "execution_count": 18,
   "id": "e55088ce",
   "metadata": {
    "execution": {
     "iopub.execute_input": "2022-02-13T19:54:58.755492Z",
     "iopub.status.busy": "2022-02-13T19:54:58.754477Z",
     "iopub.status.idle": "2022-02-13T19:54:59.169446Z",
     "shell.execute_reply": "2022-02-13T19:54:59.169966Z",
     "shell.execute_reply.started": "2022-02-13T19:00:57.407635Z"
    },
    "papermill": {
     "duration": 0.472692,
     "end_time": "2022-02-13T19:54:59.170167",
     "exception": false,
     "start_time": "2022-02-13T19:54:58.697475",
     "status": "completed"
    },
    "tags": []
   },
   "outputs": [
    {
     "data": {
      "text/plain": [
       "<AxesSubplot:xlabel='quality', ylabel='total sulfur dioxide'>"
      ]
     },
     "execution_count": 18,
     "metadata": {},
     "output_type": "execute_result"
    },
    {
     "data": {
      "image/png": "[encoded data removed]",
      "text/plain": [
       "<Figure size 1080x504 with 1 Axes>"
      ]
     },
     "metadata": {
      "needs_background": "light"
     },
     "output_type": "display_data"
    }
   ],
   "source": [
    "# effect the total sulfur dioxide in the quality\n",
    "plt.figure(figsize=(15,7))\n",
    "sns.lineplot(data=df, x=\"quality\",y=\"total sulfur dioxide\",color=\"b\")"
   ]
  },
  {
   "cell_type": "code",
   "execution_count": 19,
   "id": "9e5dfc49",
   "metadata": {
    "execution": {
     "iopub.execute_input": "2022-02-13T19:54:59.286643Z",
     "iopub.status.busy": "2022-02-13T19:54:59.285625Z",
     "iopub.status.idle": "2022-02-13T19:54:59.688417Z",
     "shell.execute_reply": "2022-02-13T19:54:59.688967Z",
     "shell.execute_reply.started": "2022-02-13T19:01:54.918124Z"
    },
    "papermill": {
     "duration": 0.462836,
     "end_time": "2022-02-13T19:54:59.689205",
     "exception": false,
     "start_time": "2022-02-13T19:54:59.226369",
     "status": "completed"
    },
    "tags": []
   },
   "outputs": [
    {
     "data": {
      "text/plain": [
       "<AxesSubplot:xlabel='quality', ylabel='free sulfur dioxide'>"
      ]
     },
     "execution_count": 19,
     "metadata": {},
     "output_type": "execute_result"
    },
    {
     "data": {
      "image/png": "[encoded data removed]",
      "text/plain": [
       "<Figure size 1080x504 with 1 Axes>"
      ]
     },
     "metadata": {
      "needs_background": "light"
     },
     "output_type": "display_data"
    }
   ],
   "source": [
    "# effect the free sulfur dioxide in the quality\n",
    "\n",
    "plt.figure(figsize=(15,7))\n",
    "sns.lineplot(data=df, x=\"quality\",y=\"free sulfur dioxide\",color=\"g\")"
   ]
  },
  {
   "cell_type": "code",
   "execution_count": 20,
   "id": "ea38a901",
   "metadata": {
    "execution": {
     "iopub.execute_input": "2022-02-13T19:54:59.811243Z",
     "iopub.status.busy": "2022-02-13T19:54:59.810201Z",
     "iopub.status.idle": "2022-02-13T19:55:00.862402Z",
     "shell.execute_reply": "2022-02-13T19:55:00.862976Z",
     "shell.execute_reply.started": "2022-02-13T19:03:25.206385Z"
    },
    "papermill": {
     "duration": 1.115054,
     "end_time": "2022-02-13T19:55:00.863156",
     "exception": false,
     "start_time": "2022-02-13T19:54:59.748102",
     "status": "completed"
    },
    "tags": []
   },
   "outputs": [
    {
     "data": {
      "text/html": [
       "        <script type=\"text/javascript\">\n",
       "        window.PlotlyConfig = {MathJaxConfig: 'local'};\n",
       "        if (window.MathJax) {MathJax.Hub.Config({SVG: {font: \"STIX-Web\"}});}\n",
       "        if (typeof require !== 'undefined') {\n",
       "        require.undef(\"plotly\");\n",
       "        requirejs.config({\n",
       "            paths: {\n",
       "                'plotly': ['https://cdn.plot.ly/plotly-2.8.3.min']\n",
       "            }\n",
       "        });\n",
       "        require(['plotly'], function(Plotly) {\n",
       "            window._Plotly = Plotly;\n",
       "        });\n",
       "        }\n",
       "        </script>\n",
       "        "
      ]
     },
     "metadata": {},
     "output_type": "display_data"
    },
    {
     "data": {
      "text/html": [
       "<div>                            <div id=\"528bbffc-e1b0-4a92-ab78-939a1eb68eee\" class=\"plotly-graph-div\" style=\"height:525px; width:100%;\"></div>            <script type=\"text/javascript\">                require([\"plotly\"], function(Plotly) {                    window.PLOTLYENV=window.PLOTLYENV || {};                                    if (document.getElementById(\"528bbffc-e1b0-4a92-ab78-939a1eb68eee\")) {                    Plotly.newPlot(                        \"528bbffc-e1b0-4a92-ab78-939a1eb68eee\",                        [{\"hovertemplate\":\"quality=5<br>free sulfur dioxide=%{x}<br>total sulfur dioxide=%{y}<extra></extra>\",\"legendgroup\":\"\",\"marker\":{\"color\":\"#636efa\",\"symbol\":\"circle\"},\"mode\":\"markers\",\"name\":\"\",\"orientation\":\"v\",\"showlegend\":false,\"x\":[11.0,25.0,15.0,11.0,13.0,15.0,15.0,16.0,9.0,23.0,10.0,9.0,11.0,4.0,14.0,17.0,15.0,13.0,12.0,9.0,22.0,4.0,30.0,4.0,17.0,19.0,20.0,13.0,4.0,4.0,6.0,18.0,9.0,12.0,3.0,21.0,19.0,9.0,34.0,8.0,42.0,9.0,8.0,5.0,12.0,5.0,12.0,18.0,15.0,12.0,11.0,12.0,10.0,3.0,21.0,3.0,3.0,30.0,17.0,16.0,13.0,16.0,3.0,32.0,21.0,25.0,25.0,28.0,29.0,28.0,12.0,7.0,36.0,35.0,14.0,18.0,19.0,7.0,7.0,10.0,10.0,23.0,16.0,11.0,26.0,14.0,15.0,21.0,7.0,7.0,15.0,18.0,28.0,26.0,13.0,11.0,10.0,16.0,5.0,5.0,16.0,5.0,8.0,17.0,5.0,12.0,8.0,18.0,10.0,23.0,5.0,32.0,32.0,33.0,5.0,26.0,8.0,5.0,12.0,12.0,7.0,30.0,26.0,25.0,5.0,16.0,29.0,8.0,23.0,29.0,14.0,6.0,6.0,11.0,23.0,6.0,68.0,9.0,68.0,15.0,15.0,24.0,31.0,34.0,34.0,15.0,9.0,21.0,6.0,6.0,7.0,31.0,6.0,21.0,5.0,29.0,6.0,36.0,15.0,5.0,6.0,6.0,7.0,6.0,43.0,34.0,38.0,23.0,6.0,12.0,12.0,6.0,5.0,20.0,5.0,38.0,32.0,10.0,10.0,5.0,41.0,5.0,10.0,18.0,17.0,5.0,5.0,18.0,21.0,21.0,9.0,30.0,6.0,25.0,5.0,28.0,6.0,16.0,14.0,9.0,21.0,5.0,5.0,20.0,5.0,46.0,24.0,30.0,31.0,16.0,16.0,16.0,8.0,22.0,7.0,20.0,8.0,15.0,25.0,5.0,5.0,12.0,45.0,20.0,32.0,5.0,35.0,5.0,4.0,5.0,12.0,16.0,21.0,24.0,18.0,11.0,10.0,16.0,21.0,16.0,21.0,12.0,10.0,17.0,10.0,35.0,36.0,5.0,4.0,4.0,12.0,4.0,10.0,16.0,9.0,11.0,19.0,28.0,21.0,17.0,24.0,17.0,10.0,10.0,33.0,9.0,5.0,12.0,7.0,23.0,23.0,7.0,7.0,21.0,9.0,20.0,11.0,21.0,25.0,7.0,7.0,24.0,8.0,4.0,4.0,9.0,9.0,15.0,6.0,15.0,21.0,9.0,14.0,14.0,9.0,9.0,15.0,7.0,17.0,16.0,36.0,9.0,23.0,16.0,16.0,10.0,12.0,7.0,10.0,14.0,14.0,13.0,8.0,7.0,9.0,7.0,6.0,23.0,35.0,31.0,13.0,35.0,19.0,19.0,31.0,31.0,27.0,11.0,10.0,4.0,28.0,5.0,27.0,16.0,19.0,28.0,28.0,30.0,3.0,40.0,5.0,13.0,4.0,7.0,28.0,29.0,35.0,9.0,9.0,10.0,17.0,5.0,16.0,11.0,11.0,6.0,33.0,24.0,18.0,27.0,8.0,19.0,48.0,19.0,36.0,10.0,15.0,15.0,27.0,6.0,6.0,20.0,43.0,19.0,34.0,25.0,34.0,18.0,20.0,20.0,20.0,6.0,51.0,21.0,24.0,22.0,27.0,14.0,9.0,13.0,31.0,12.0,4.0,15.0,15.0,15.0,8.0,5.0,7.0,14.0,5.0,4.0,52.0,13.0,10.0,12.0,12.0,7.0,25.0,25.0,20.0,34.0,8.0,7.0,5.0,5.0,19.0,4.0,17.0,33.0,12.0,3.0,8.0,3.0,3.0,32.0,3.0,24.0,6.0,27.0,38.0,18.0,27.0,15.0,3.0,8.0,22.0,27.0,8.0,34.0,8.0,8.0,14.0,48.0,48.0,10.0,10.0,6.0,8.0,9.0,9.0,5.0,6.0,23.0,21.0,7.0,19.0,7.0,14.0,23.0,29.0,18.0,13.0,32.0,15.0,17.0,19.0,18.0,18.0,12.0,66.0,31.0,31.0,31.0,12.0,12.0,12.0,25.0,35.0,13.0,32.0,32.0,32.0],\"xaxis\":\"x\",\"y\":[34.0,67.0,54.0,34.0,40.0,59.0,65.0,59.0,29.0,71.0,37.0,67.0,23.0,11.0,35.0,82.0,113.0,50.0,87.0,23.0,114.0,23.0,119.0,10.0,54.0,52.0,112.0,54.0,11.0,11.0,15.0,94.0,42.0,80.0,15.0,73.0,40.0,31.0,125.0,24.0,140.0,31.0,23.0,10.0,65.0,36.0,65.0,69.0,64.0,47.0,108.0,47.0,89.0,13.0,102.0,12.0,12.0,134.0,99.0,63.0,45.0,63.0,20.0,141.0,94.0,99.0,99.0,128.0,129.0,128.0,22.0,20.0,121.0,121.0,96.0,101.0,49.0,35.0,20.0,42.0,42.0,110.0,42.0,65.0,85.0,67.0,143.0,127.0,28.0,28.0,55.0,95.0,65.0,121.0,49.0,41.0,44.0,72.0,10.0,62.0,51.0,21.0,86.0,119.0,13.0,56.0,45.0,45.0,35.0,49.0,27.0,71.0,71.0,98.0,27.0,70.0,29.0,31.0,28.0,90.0,54.0,135.0,72.0,87.0,13.0,44.0,58.0,19.0,77.0,55.0,81.0,37.0,15.0,24.0,54.0,26.0,124.0,42.0,124.0,27.0,77.0,122.0,134.0,124.0,52.0,60.0,30.0,66.0,18.0,18.0,50.0,72.0,16.0,67.0,22.0,65.0,19.0,48.0,47.0,28.0,16.0,23.0,18.0,17.0,113.0,151.0,142.0,116.0,33.0,42.0,42.0,33.0,17.0,47.0,20.0,106.0,96.0,23.0,23.0,19.0,110.0,19.0,28.0,111.0,110.0,14.0,14.0,102.0,75.0,75.0,43.0,109.0,14.0,57.0,16.0,71.0,16.0,112.0,104.0,32.0,58.0,15.0,15.0,84.0,19.0,102.0,33.0,147.0,145.0,40.0,40.0,40.0,32.0,71.0,29.0,53.0,32.0,42.0,48.0,13.0,13.0,31.0,87.0,49.0,58.0,15.0,152.0,15.0,9.0,17.0,93.0,62.0,122.0,125.0,72.0,54.0,19.0,37.0,84.0,112.0,77.0,49.0,22.0,45.0,22.0,106.0,127.0,13.0,11.0,11.0,37.0,14.0,19.0,72.0,39.0,22.0,38.0,139.0,101.0,40.0,66.0,40.0,31.0,31.0,88.0,104.0,35.0,74.0,32.0,143.0,144.0,16.0,34.0,92.0,37.0,85.0,61.0,119.0,130.0,13.0,60.0,64.0,17.0,12.0,14.0,59.0,22.0,36.0,16.0,37.0,31.0,92.0,31.0,31.0,22.0,22.0,85.0,25.0,84.0,86.0,46.0,30.0,99.0,86.0,86.0,39.0,78.0,62.0,23.0,28.0,28.0,38.0,25.0,11.0,23.0,18.0,16.0,113.0,72.0,119.0,28.0,70.0,27.0,27.0,68.0,68.0,45.0,32.0,23.0,9.0,52.0,14.0,51.0,45.0,25.0,90.0,52.0,92.0,8.0,64.0,18.0,49.0,13.0,15.0,89.0,94.0,70.0,38.0,38.0,21.0,78.0,11.0,61.0,119.0,119.0,12.0,76.0,52.0,77.0,46.0,21.0,66.0,90.0,66.0,60.0,86.0,34.0,48.0,60.0,14.0,13.0,35.0,60.0,56.0,66.0,44.0,44.0,36.0,47.0,110.0,110.0,12.0,77.5,68.0,88.0,91.0,63.0,41.0,18.0,38.0,67.0,48.0,11.0,26.0,26.0,26.0,20.0,13.0,12.0,57.0,32.0,28.0,98.0,54.0,45.0,66.0,66.0,31.0,105.0,105.0,84.0,85.0,23.0,49.0,33.0,12.0,59.0,11.0,104.0,141.0,89.0,15.0,18.0,15.0,19.0,133.0,19.0,58.0,23.0,55.0,67.0,47.0,90.0,39.0,8.0,22.0,39.0,85.0,20.0,53.0,24.0,16.0,45.0,82.0,82.0,22.0,22.0,12.0,25.0,23.0,17.0,13.0,18.0,147.0,64.0,20.0,27.0,20.0,27.0,58.0,61.0,34.0,28.0,84.0,26.0,26.0,50.0,27.0,28.0,20.0,115.0,131.0,131.0,131.0,20.0,20.0,20.0,42.0,104.0,27.0,98.0,44.0,44.0],\"yaxis\":\"y\",\"type\":\"scatter\"}],                        {\"template\":{\"data\":{\"bar\":[{\"error_x\":{\"color\":\"#2a3f5f\"},\"error_y\":{\"color\":\"#2a3f5f\"},\"marker\":{\"line\":{\"color\":\"#E5ECF6\",\"width\":0.5},\"pattern\":{\"fillmode\":\"overlay\",\"size\":10,\"solidity\":0.2}},\"type\":\"bar\"}],\"barpolar\":[{\"marker\":{\"line\":{\"color\":\"#E5ECF6\",\"width\":0.5},\"pattern\":{\"fillmode\":\"overlay\",\"size\":10,\"solidity\":0.2}},\"type\":\"barpolar\"}],\"carpet\":[{\"aaxis\":{\"endlinecolor\":\"#2a3f5f\",\"gridcolor\":\"white\",\"linecolor\":\"white\",\"minorgridcolor\":\"white\",\"startlinecolor\":\"#2a3f5f\"},\"baxis\":{\"endlinecolor\":\"#2a3f5f\",\"gridcolor\":\"white\",\"linecolor\":\"white\",\"minorgridcolor\":\"white\",\"startlinecolor\":\"#2a3f5f\"},\"type\":\"carpet\"}],\"choropleth\":[{\"colorbar\":{\"outlinewidth\":0,\"ticks\":\"\"},\"type\":\"choropleth\"}],\"contour\":[{\"colorbar\":{\"outlinewidth\":0,\"ticks\":\"\"},\"colorscale\":[[0.0,\"#0d0887\"],[0.1111111111111111,\"#46039f\"],[0.2222222222222222,\"#7201a8\"],[0.3333333333333333,\"#9c179e\"],[0.4444444444444444,\"#bd3786\"],[0.5555555555555556,\"#d8576b\"],[0.6666666666666666,\"#ed7953\"],[0.7777777777777778,\"#fb9f3a\"],[0.8888888888888888,\"#fdca26\"],[1.0,\"#f0f921\"]],\"type\":\"contour\"}],\"contourcarpet\":[{\"colorbar\":{\"outlinewidth\":0,\"ticks\":\"\"},\"type\":\"contourcarpet\"}],\"heatmap\":[{\"colorbar\":{\"outlinewidth\":0,\"ticks\":\"\"},\"colorscale\":[[0.0,\"#0d0887\"],[0.1111111111111111,\"#46039f\"],[0.2222222222222222,\"#7201a8\"],[0.3333333333333333,\"#9c179e\"],[0.4444444444444444,\"#bd3786\"],[0.5555555555555556,\"#d8576b\"],[0.6666666666666666,\"#ed7953\"],[0.7777777777777778,\"#fb9f3a\"],[0.8888888888888888,\"#fdca26\"],[1.0,\"#f0f921\"]],\"type\":\"heatmap\"}],\"heatmapgl\":[{\"colorbar\":{\"outlinewidth\":0,\"ticks\":\"\"},\"colorscale\":[[0.0,\"#0d0887\"],[0.1111111111111111,\"#46039f\"],[0.2222222222222222,\"#7201a8\"],[0.3333333333333333,\"#9c179e\"],[0.4444444444444444,\"#bd3786\"],[0.5555555555555556,\"#d8576b\"],[0.6666666666666666,\"#ed7953\"],[0.7777777777777778,\"#fb9f3a\"],[0.8888888888888888,\"#fdca26\"],[1.0,\"#f0f921\"]],\"type\":\"heatmapgl\"}],\"histogram\":[{\"marker\":{\"pattern\":{\"fillmode\":\"overlay\",\"size\":10,\"solidity\":0.2}},\"type\":\"histogram\"}],\"histogram2d\":[{\"colorbar\":{\"outlinewidth\":0,\"ticks\":\"\"},\"colorscale\":[[0.0,\"#0d0887\"],[0.1111111111111111,\"#46039f\"],[0.2222222222222222,\"#7201a8\"],[0.3333333333333333,\"#9c179e\"],[0.4444444444444444,\"#bd3786\"],[0.5555555555555556,\"#d8576b\"],[0.6666666666666666,\"#ed7953\"],[0.7777777777777778,\"#fb9f3a\"],[0.8888888888888888,\"#fdca26\"],[1.0,\"#f0f921\"]],\"type\":\"histogram2d\"}],\"histogram2dcontour\":[{\"colorbar\":{\"outlinewidth\":0,\"ticks\":\"\"},\"colorscale\":[[0.0,\"#0d0887\"],[0.1111111111111111,\"#46039f\"],[0.2222222222222222,\"#7201a8\"],[0.3333333333333333,\"#9c179e\"],[0.4444444444444444,\"#bd3786\"],[0.5555555555555556,\"#d8576b\"],[0.6666666666666666,\"#ed7953\"],[0.7777777777777778,\"#fb9f3a\"],[0.8888888888888888,\"#fdca26\"],[1.0,\"#f0f921\"]],\"type\":\"histogram2dcontour\"}],\"mesh3d\":[{\"colorbar\":{\"outlinewidth\":0,\"ticks\":\"\"},\"type\":\"mesh3d\"}],\"parcoords\":[{\"line\":{\"colorbar\":{\"outlinewidth\":0,\"ticks\":\"\"}},\"type\":\"parcoords\"}],\"pie\":[{\"automargin\":true,\"type\":\"pie\"}],\"scatter\":[{\"marker\":{\"colorbar\":{\"outlinewidth\":0,\"ticks\":\"\"}},\"type\":\"scatter\"}],\"scatter3d\":[{\"line\":{\"colorbar\":{\"outlinewidth\":0,\"ticks\":\"\"}},\"marker\":{\"colorbar\":{\"outlinewidth\":0,\"ticks\":\"\"}},\"type\":\"scatter3d\"}],\"scattercarpet\":[{\"marker\":{\"colorbar\":{\"outlinewidth\":0,\"ticks\":\"\"}},\"type\":\"scattercarpet\"}],\"scattergeo\":[{\"marker\":{\"colorbar\":{\"outlinewidth\":0,\"ticks\":\"\"}},\"type\":\"scattergeo\"}],\"scattergl\":[{\"marker\":{\"colorbar\":{\"outlinewidth\":0,\"ticks\":\"\"}},\"type\":\"scattergl\"}],\"scattermapbox\":[{\"marker\":{\"colorbar\":{\"outlinewidth\":0,\"ticks\":\"\"}},\"type\":\"scattermapbox\"}],\"scatterpolar\":[{\"marker\":{\"colorbar\":{\"outlinewidth\":0,\"ticks\":\"\"}},\"type\":\"scatterpolar\"}],\"scatterpolargl\":[{\"marker\":{\"colorbar\":{\"outlinewidth\":0,\"ticks\":\"\"}},\"type\":\"scatterpolargl\"}],\"scatterternary\":[{\"marker\":{\"colorbar\":{\"outlinewidth\":0,\"ticks\":\"\"}},\"type\":\"scatterternary\"}],\"surface\":[{\"colorbar\":{\"outlinewidth\":0,\"ticks\":\"\"},\"colorscale\":[[0.0,\"#0d0887\"],[0.1111111111111111,\"#46039f\"],[0.2222222222222222,\"#7201a8\"],[0.3333333333333333,\"#9c179e\"],[0.4444444444444444,\"#bd3786\"],[0.5555555555555556,\"#d8576b\"],[0.6666666666666666,\"#ed7953\"],[0.7777777777777778,\"#fb9f3a\"],[0.8888888888888888,\"#fdca26\"],[1.0,\"#f0f921\"]],\"type\":\"surface\"}],\"table\":[{\"cells\":{\"fill\":{\"color\":\"#EBF0F8\"},\"line\":{\"color\":\"white\"}},\"header\":{\"fill\":{\"color\":\"#C8D4E3\"},\"line\":{\"color\":\"white\"}},\"type\":\"table\"}]},\"layout\":{\"annotationdefaults\":{\"arrowcolor\":\"#2a3f5f\",\"arrowhead\":0,\"arrowwidth\":1},\"autotypenumbers\":\"strict\",\"coloraxis\":{\"colorbar\":{\"outlinewidth\":0,\"ticks\":\"\"}},\"colorscale\":{\"diverging\":[[0,\"#8e0152\"],[0.1,\"#c51b7d\"],[0.2,\"#de77ae\"],[0.3,\"#f1b6da\"],[0.4,\"#fde0ef\"],[0.5,\"#f7f7f7\"],[0.6,\"#e6f5d0\"],[0.7,\"#b8e186\"],[0.8,\"#7fbc41\"],[0.9,\"#4d9221\"],[1,\"#276419\"]],\"sequential\":[[0.0,\"#0d0887\"],[0.1111111111111111,\"#46039f\"],[0.2222222222222222,\"#7201a8\"],[0.3333333333333333,\"#9c179e\"],[0.4444444444444444,\"#bd3786\"],[0.5555555555555556,\"#d8576b\"],[0.6666666666666666,\"#ed7953\"],[0.7777777777777778,\"#fb9f3a\"],[0.8888888888888888,\"#fdca26\"],[1.0,\"#f0f921\"]],\"sequentialminus\":[[0.0,\"#0d0887\"],[0.1111111111111111,\"#46039f\"],[0.2222222222222222,\"#7201a8\"],[0.3333333333333333,\"#9c179e\"],[0.4444444444444444,\"#bd3786\"],[0.5555555555555556,\"#d8576b\"],[0.6666666666666666,\"#ed7953\"],[0.7777777777777778,\"#fb9f3a\"],[0.8888888888888888,\"#fdca26\"],[1.0,\"#f0f921\"]]},\"colorway\":[\"#636efa\",\"#EF553B\",\"#00cc96\",\"#ab63fa\",\"#FFA15A\",\"#19d3f3\",\"#FF6692\",\"#B6E880\",\"#FF97FF\",\"#FECB52\"],\"font\":{\"color\":\"#2a3f5f\"},\"geo\":{\"bgcolor\":\"white\",\"lakecolor\":\"white\",\"landcolor\":\"#E5ECF6\",\"showlakes\":true,\"showland\":true,\"subunitcolor\":\"white\"},\"hoverlabel\":{\"align\":\"left\"},\"hovermode\":\"closest\",\"mapbox\":{\"style\":\"light\"},\"paper_bgcolor\":\"white\",\"plot_bgcolor\":\"#E5ECF6\",\"polar\":{\"angularaxis\":{\"gridcolor\":\"white\",\"linecolor\":\"white\",\"ticks\":\"\"},\"bgcolor\":\"#E5ECF6\",\"radialaxis\":{\"gridcolor\":\"white\",\"linecolor\":\"white\",\"ticks\":\"\"}},\"scene\":{\"xaxis\":{\"backgroundcolor\":\"#E5ECF6\",\"gridcolor\":\"white\",\"gridwidth\":2,\"linecolor\":\"white\",\"showbackground\":true,\"ticks\":\"\",\"zerolinecolor\":\"white\"},\"yaxis\":{\"backgroundcolor\":\"#E5ECF6\",\"gridcolor\":\"white\",\"gridwidth\":2,\"linecolor\":\"white\",\"showbackground\":true,\"ticks\":\"\",\"zerolinecolor\":\"white\"},\"zaxis\":{\"backgroundcolor\":\"#E5ECF6\",\"gridcolor\":\"white\",\"gridwidth\":2,\"linecolor\":\"white\",\"showbackground\":true,\"ticks\":\"\",\"zerolinecolor\":\"white\"}},\"shapedefaults\":{\"line\":{\"color\":\"#2a3f5f\"}},\"ternary\":{\"aaxis\":{\"gridcolor\":\"white\",\"linecolor\":\"white\",\"ticks\":\"\"},\"baxis\":{\"gridcolor\":\"white\",\"linecolor\":\"white\",\"ticks\":\"\"},\"bgcolor\":\"#E5ECF6\",\"caxis\":{\"gridcolor\":\"white\",\"linecolor\":\"white\",\"ticks\":\"\"}},\"title\":{\"x\":0.05},\"xaxis\":{\"automargin\":true,\"gridcolor\":\"white\",\"linecolor\":\"white\",\"ticks\":\"\",\"title\":{\"standoff\":15},\"zerolinecolor\":\"white\",\"zerolinewidth\":2},\"yaxis\":{\"automargin\":true,\"gridcolor\":\"white\",\"linecolor\":\"white\",\"ticks\":\"\",\"title\":{\"standoff\":15},\"zerolinecolor\":\"white\",\"zerolinewidth\":2}}},\"xaxis\":{\"anchor\":\"y\",\"domain\":[0.0,1.0],\"title\":{\"text\":\"free sulfur dioxide\"}},\"yaxis\":{\"anchor\":\"x\",\"domain\":[0.0,1.0],\"title\":{\"text\":\"total sulfur dioxide\"}},\"legend\":{\"tracegroupgap\":0},\"margin\":{\"t\":60},\"updatemenus\":[{\"buttons\":[{\"args\":[null,{\"frame\":{\"duration\":500,\"redraw\":false},\"mode\":\"immediate\",\"fromcurrent\":true,\"transition\":{\"duration\":500,\"easing\":\"linear\"}}],\"label\":\"&#9654;\",\"method\":\"animate\"},{\"args\":[[null],{\"frame\":{\"duration\":0,\"redraw\":false},\"mode\":\"immediate\",\"fromcurrent\":true,\"transition\":{\"duration\":0,\"easing\":\"linear\"}}],\"label\":\"&#9724;\",\"method\":\"animate\"}],\"direction\":\"left\",\"pad\":{\"r\":10,\"t\":70},\"showactive\":false,\"type\":\"buttons\",\"x\":0.1,\"xanchor\":\"right\",\"y\":0,\"yanchor\":\"top\"}],\"sliders\":[{\"active\":0,\"currentvalue\":{\"prefix\":\"quality=\"},\"len\":0.9,\"pad\":{\"b\":10,\"t\":60},\"steps\":[{\"args\":[[\"5\"],{\"frame\":{\"duration\":0,\"redraw\":false},\"mode\":\"immediate\",\"fromcurrent\":true,\"transition\":{\"duration\":0,\"easing\":\"linear\"}}],\"label\":\"5\",\"method\":\"animate\"},{\"args\":[[\"6\"],{\"frame\":{\"duration\":0,\"redraw\":false},\"mode\":\"immediate\",\"fromcurrent\":true,\"transition\":{\"duration\":0,\"easing\":\"linear\"}}],\"label\":\"6\",\"method\":\"animate\"},{\"args\":[[\"7\"],{\"frame\":{\"duration\":0,\"redraw\":false},\"mode\":\"immediate\",\"fromcurrent\":true,\"transition\":{\"duration\":0,\"easing\":\"linear\"}}],\"label\":\"7\",\"method\":\"animate\"},{\"args\":[[\"4\"],{\"frame\":{\"duration\":0,\"redraw\":false},\"mode\":\"immediate\",\"fromcurrent\":true,\"transition\":{\"duration\":0,\"easing\":\"linear\"}}],\"label\":\"4\",\"method\":\"animate\"},{\"args\":[[\"8\"],{\"frame\":{\"duration\":0,\"redraw\":false},\"mode\":\"immediate\",\"fromcurrent\":true,\"transition\":{\"duration\":0,\"easing\":\"linear\"}}],\"label\":\"8\",\"method\":\"animate\"},{\"args\":[[\"3\"],{\"frame\":{\"duration\":0,\"redraw\":false},\"mode\":\"immediate\",\"fromcurrent\":true,\"transition\":{\"duration\":0,\"easing\":\"linear\"}}],\"label\":\"3\",\"method\":\"animate\"}],\"x\":0.1,\"xanchor\":\"left\",\"y\":0,\"yanchor\":\"top\"}]},                        {\"responsive\": true}                    ).then(function(){\n",
       "                            Plotly.addFrames('528bbffc-e1b0-4a92-ab78-939a1eb68eee', [{\"data\":[{\"hovertemplate\":\"quality=5<br>free sulfur dioxide=%{x}<br>total sulfur dioxide=%{y}<extra></extra>\",\"legendgroup\":\"\",\"marker\":{\"color\":\"#636efa\",\"symbol\":\"circle\"},\"mode\":\"markers\",\"name\":\"\",\"orientation\":\"v\",\"showlegend\":false,\"x\":[11.0,25.0,15.0,11.0,13.0,15.0,15.0,16.0,9.0,23.0,10.0,9.0,11.0,4.0,14.0,17.0,15.0,13.0,12.0,9.0,22.0,4.0,30.0,4.0,17.0,19.0,20.0,13.0,4.0,4.0,6.0,18.0,9.0,12.0,3.0,21.0,19.0,9.0,34.0,8.0,42.0,9.0,8.0,5.0,12.0,5.0,12.0,18.0,15.0,12.0,11.0,12.0,10.0,3.0,21.0,3.0,3.0,30.0,17.0,16.0,13.0,16.0,3.0,32.0,21.0,25.0,25.0,28.0,29.0,28.0,12.0,7.0,36.0,35.0,14.0,18.0,19.0,7.0,7.0,10.0,10.0,23.0,16.0,11.0,26.0,14.0,15.0,21.0,7.0,7.0,15.0,18.0,28.0,26.0,13.0,11.0,10.0,16.0,5.0,5.0,16.0,5.0,8.0,17.0,5.0,12.0,8.0,18.0,10.0,23.0,5.0,32.0,32.0,33.0,5.0,26.0,8.0,5.0,12.0,12.0,7.0,30.0,26.0,25.0,5.0,16.0,29.0,8.0,23.0,29.0,14.0,6.0,6.0,11.0,23.0,6.0,68.0,9.0,68.0,15.0,15.0,24.0,31.0,34.0,34.0,15.0,9.0,21.0,6.0,6.0,7.0,31.0,6.0,21.0,5.0,29.0,6.0,36.0,15.0,5.0,6.0,6.0,7.0,6.0,43.0,34.0,38.0,23.0,6.0,12.0,12.0,6.0,5.0,20.0,5.0,38.0,32.0,10.0,10.0,5.0,41.0,5.0,10.0,18.0,17.0,5.0,5.0,18.0,21.0,21.0,9.0,30.0,6.0,25.0,5.0,28.0,6.0,16.0,14.0,9.0,21.0,5.0,5.0,20.0,5.0,46.0,24.0,30.0,31.0,16.0,16.0,16.0,8.0,22.0,7.0,20.0,8.0,15.0,25.0,5.0,5.0,12.0,45.0,20.0,32.0,5.0,35.0,5.0,4.0,5.0,12.0,16.0,21.0,24.0,18.0,11.0,10.0,16.0,21.0,16.0,21.0,12.0,10.0,17.0,10.0,35.0,36.0,5.0,4.0,4.0,12.0,4.0,10.0,16.0,9.0,11.0,19.0,28.0,21.0,17.0,24.0,17.0,10.0,10.0,33.0,9.0,5.0,12.0,7.0,23.0,23.0,7.0,7.0,21.0,9.0,20.0,11.0,21.0,25.0,7.0,7.0,24.0,8.0,4.0,4.0,9.0,9.0,15.0,6.0,15.0,21.0,9.0,14.0,14.0,9.0,9.0,15.0,7.0,17.0,16.0,36.0,9.0,23.0,16.0,16.0,10.0,12.0,7.0,10.0,14.0,14.0,13.0,8.0,7.0,9.0,7.0,6.0,23.0,35.0,31.0,13.0,35.0,19.0,19.0,31.0,31.0,27.0,11.0,10.0,4.0,28.0,5.0,27.0,16.0,19.0,28.0,28.0,30.0,3.0,40.0,5.0,13.0,4.0,7.0,28.0,29.0,35.0,9.0,9.0,10.0,17.0,5.0,16.0,11.0,11.0,6.0,33.0,24.0,18.0,27.0,8.0,19.0,48.0,19.0,36.0,10.0,15.0,15.0,27.0,6.0,6.0,20.0,43.0,19.0,34.0,25.0,34.0,18.0,20.0,20.0,20.0,6.0,51.0,21.0,24.0,22.0,27.0,14.0,9.0,13.0,31.0,12.0,4.0,15.0,15.0,15.0,8.0,5.0,7.0,14.0,5.0,4.0,52.0,13.0,10.0,12.0,12.0,7.0,25.0,25.0,20.0,34.0,8.0,7.0,5.0,5.0,19.0,4.0,17.0,33.0,12.0,3.0,8.0,3.0,3.0,32.0,3.0,24.0,6.0,27.0,38.0,18.0,27.0,15.0,3.0,8.0,22.0,27.0,8.0,34.0,8.0,8.0,14.0,48.0,48.0,10.0,10.0,6.0,8.0,9.0,9.0,5.0,6.0,23.0,21.0,7.0,19.0,7.0,14.0,23.0,29.0,18.0,13.0,32.0,15.0,17.0,19.0,18.0,18.0,12.0,66.0,31.0,31.0,31.0,12.0,12.0,12.0,25.0,35.0,13.0,32.0,32.0,32.0],\"xaxis\":\"x\",\"y\":[34.0,67.0,54.0,34.0,40.0,59.0,65.0,59.0,29.0,71.0,37.0,67.0,23.0,11.0,35.0,82.0,113.0,50.0,87.0,23.0,114.0,23.0,119.0,10.0,54.0,52.0,112.0,54.0,11.0,11.0,15.0,94.0,42.0,80.0,15.0,73.0,40.0,31.0,125.0,24.0,140.0,31.0,23.0,10.0,65.0,36.0,65.0,69.0,64.0,47.0,108.0,47.0,89.0,13.0,102.0,12.0,12.0,134.0,99.0,63.0,45.0,63.0,20.0,141.0,94.0,99.0,99.0,128.0,129.0,128.0,22.0,20.0,121.0,121.0,96.0,101.0,49.0,35.0,20.0,42.0,42.0,110.0,42.0,65.0,85.0,67.0,143.0,127.0,28.0,28.0,55.0,95.0,65.0,121.0,49.0,41.0,44.0,72.0,10.0,62.0,51.0,21.0,86.0,119.0,13.0,56.0,45.0,45.0,35.0,49.0,27.0,71.0,71.0,98.0,27.0,70.0,29.0,31.0,28.0,90.0,54.0,135.0,72.0,87.0,13.0,44.0,58.0,19.0,77.0,55.0,81.0,37.0,15.0,24.0,54.0,26.0,124.0,42.0,124.0,27.0,77.0,122.0,134.0,124.0,52.0,60.0,30.0,66.0,18.0,18.0,50.0,72.0,16.0,67.0,22.0,65.0,19.0,48.0,47.0,28.0,16.0,23.0,18.0,17.0,113.0,151.0,142.0,116.0,33.0,42.0,42.0,33.0,17.0,47.0,20.0,106.0,96.0,23.0,23.0,19.0,110.0,19.0,28.0,111.0,110.0,14.0,14.0,102.0,75.0,75.0,43.0,109.0,14.0,57.0,16.0,71.0,16.0,112.0,104.0,32.0,58.0,15.0,15.0,84.0,19.0,102.0,33.0,147.0,145.0,40.0,40.0,40.0,32.0,71.0,29.0,53.0,32.0,42.0,48.0,13.0,13.0,31.0,87.0,49.0,58.0,15.0,152.0,15.0,9.0,17.0,93.0,62.0,122.0,125.0,72.0,54.0,19.0,37.0,84.0,112.0,77.0,49.0,22.0,45.0,22.0,106.0,127.0,13.0,11.0,11.0,37.0,14.0,19.0,72.0,39.0,22.0,38.0,139.0,101.0,40.0,66.0,40.0,31.0,31.0,88.0,104.0,35.0,74.0,32.0,143.0,144.0,16.0,34.0,92.0,37.0,85.0,61.0,119.0,130.0,13.0,60.0,64.0,17.0,12.0,14.0,59.0,22.0,36.0,16.0,37.0,31.0,92.0,31.0,31.0,22.0,22.0,85.0,25.0,84.0,86.0,46.0,30.0,99.0,86.0,86.0,39.0,78.0,62.0,23.0,28.0,28.0,38.0,25.0,11.0,23.0,18.0,16.0,113.0,72.0,119.0,28.0,70.0,27.0,27.0,68.0,68.0,45.0,32.0,23.0,9.0,52.0,14.0,51.0,45.0,25.0,90.0,52.0,92.0,8.0,64.0,18.0,49.0,13.0,15.0,89.0,94.0,70.0,38.0,38.0,21.0,78.0,11.0,61.0,119.0,119.0,12.0,76.0,52.0,77.0,46.0,21.0,66.0,90.0,66.0,60.0,86.0,34.0,48.0,60.0,14.0,13.0,35.0,60.0,56.0,66.0,44.0,44.0,36.0,47.0,110.0,110.0,12.0,77.5,68.0,88.0,91.0,63.0,41.0,18.0,38.0,67.0,48.0,11.0,26.0,26.0,26.0,20.0,13.0,12.0,57.0,32.0,28.0,98.0,54.0,45.0,66.0,66.0,31.0,105.0,105.0,84.0,85.0,23.0,49.0,33.0,12.0,59.0,11.0,104.0,141.0,89.0,15.0,18.0,15.0,19.0,133.0,19.0,58.0,23.0,55.0,67.0,47.0,90.0,39.0,8.0,22.0,39.0,85.0,20.0,53.0,24.0,16.0,45.0,82.0,82.0,22.0,22.0,12.0,25.0,23.0,17.0,13.0,18.0,147.0,64.0,20.0,27.0,20.0,27.0,58.0,61.0,34.0,28.0,84.0,26.0,26.0,50.0,27.0,28.0,20.0,115.0,131.0,131.0,131.0,20.0,20.0,20.0,42.0,104.0,27.0,98.0,44.0,44.0],\"yaxis\":\"y\",\"type\":\"scatter\"}],\"name\":\"5\"},{\"data\":[{\"hovertemplate\":\"quality=6<br>free sulfur dioxide=%{x}<br>total sulfur dioxide=%{y}<extra></extra>\",\"legendgroup\":\"\",\"marker\":{\"color\":\"#636efa\",\"symbol\":\"circle\"},\"mode\":\"markers\",\"name\":\"\",\"orientation\":\"v\",\"showlegend\":false,\"x\":[17.0,17.0,21.0,8.0,5.0,3.0,8.0,8.0,6.0,33.0,9.0,8.0,14.0,18.0,20.0,20.0,13.0,11.0,13.0,22.0,13.0,11.0,14.0,13.0,27.0,27.0,12.0,5.0,18.0,17.0,11.0,6.0,24.0,8.0,8.0,21.0,12.0,14.0,5.0,10.0,10.0,24.0,8.0,29.0,27.0,12.0,18.0,7.0,14.0,6.0,28.0,6.0,6.0,16.0,16.0,7.0,4.0,27.0,27.0,7.0,4.0,6.0,25.0,29.0,18.0,5.0,17.0,20.0,7.0,6.0,5.0,15.0,19.0,30.0,13.0,13.0,6.0,6.0,6.0,6.0,6.0,6.0,15.0,11.0,40.5,17.0,10.0,21.0,11.0,26.0,19.0,6.0,11.0,23.0,17.0,13.0,19.0,10.0,9.0,26.0,6.0,7.0,19.0,6.0,13.0,22.0,38.0,6.0,7.0,17.0,17.0,18.0,14.0,5.0,21.0,7.0,6.0,25.0,25.0,6.0,6.0,5.0,10.0,23.0,28.0,14.0,23.0,14.0,6.0,26.0,15.0,5.0,15.0,33.0,1.0,15.0,13.0,1.0,5.0,5.0,16.0,6.0,10.0,6.0,27.0,9.0,14.0,14.0,10.0,6.0,25.0,6.0,5.0,5.0,19.0,10.0,18.0,23.0,6.0,5.0,14.0,26.0,11.0,15.0,18.0,14.0,7.0,7.0,21.0,25.0,24.0,9.0,5.0,5.0,9.0,6.0,6.0,6.0,7.0,16.0,18.0,8.0,5.0,26.0,8.0,9.0,11.0,18.0,27.0,19.0,12.0,12.0,12.0,12.0,12.0,14.0,22.0,15.0,8.0,11.0,12.0,24.0,24.0,1.0,6.0,12.0,19.0,19.0,18.0,17.0,7.0,5.0,14.0,4.0,4.0,7.0,19.0,16.0,34.0,12.0,41.0,41.0,41.0,31.0,30.0,14.0,30.0,8.0,32.0,10.0,17.0,27.0,27.0,6.0,34.0,3.0,3.0,4.0,3.0,26.0,32.0,38.0,38.0,52.0,29.0,19.0,5.0,18.0,18.0,29.0,6.0,8.0,51.0,8.0,7.0,14.0,19.0,4.0,7.0,12.0,22.0,3.0,36.0,3.0,3.0,3.0,17.0,14.0,15.0,21.0,13.0,12.0,32.0,33.0,3.0,6.0,5.0,3.0,6.0,6.0,5.0,6.0,16.0,3.0,31.0,32.0,18.0,8.0,10.0,9.0,9.0,23.0,14.0,14.0,16.0,27.0,6.0,6.0,29.0,15.0,15.0,15.0,14.0,27.0,26.0,5.0,22.0,6.0,16.0,33.0,24.0,6.0,16.0,31.0,6.0,9.0,6.0,16.0,17.0,8.0,5.0,5.0,5.0,26.0,26.0,48.0,11.0,6.0,15.0,21.0,4.0,19.0,23.0,4.0,8.0,8.0,6.0,10.0,25.0,17.0,17.0,8.0,15.0,11.0,7.0,11.0,24.0,12.0,15.0,26.0,16.0,16.0,13.0,21.0,26.0,24.0,17.0,13.0,3.0,13.0,28.0,28.0,9.0,17.0,25.0,14.0,15.0,11.0,15.0,20.0,4.0,12.0,17.0,16.0,18.0,16.0,18.0,18.0,18.0,18.0,17.0,17.0,6.0,19.0,13.0,13.0,13.0,13.0,10.0,8.0,27.0,6.0,6.0,10.0,9.0,16.0,5.0,10.0,11.0,11.0,15.0,3.0,10.0,6.0,12.0,8.0,40.0,40.0,5.0,8.0,8.0,39.0,13.0,55.0,31.0,19.0,7.0,9.0,34.0,14.0,23.0,8.0,15.0,7.0,7.0,6.0,5.0,6.0,5.0,17.0,26.0,16.0,16.0,29.0,18.0,21.0,42.0,9.0,18.0,15.0,11.0,16.0,32.0,15.0,26.0,24.0,15.0,19.0,15.0,15.0,12.0,16.0,13.0,13.0,9.0,34.0,18.0,26.0,16.0,29.0,28.0,39.0],\"xaxis\":\"x\",\"y\":[60.0,56.0,40.0,16.0,18.0,15.0,14.0,15.0,14.0,73.0,46.0,19.0,30.0,61.0,136.0,136.0,35.0,50.0,35.0,46.0,62.0,40.0,56.0,29.0,63.0,63.0,30.0,11.0,86.0,31.0,44.0,18.0,42.0,38.0,62.0,49.0,27.0,37.0,19.0,62.0,41.0,58.0,28.0,63.0,81.0,49.0,58.0,37.0,38.0,24.0,109.0,23.0,23.0,37.0,34.0,27.0,23.0,61.0,61.0,27.0,23.0,19.0,49.0,53.0,48.0,16.0,53.0,44.0,15.0,14.0,12.0,105.0,98.0,74.0,50.0,50.0,21.0,16.0,14.0,14.0,32.0,15.0,46.0,26.0,165.0,32.0,41.0,50.0,25.0,46.0,47.0,24.0,27.0,53.0,43.0,49.0,64.0,41.0,28.0,86.0,20.0,20.0,48.0,32.0,35.0,54.0,62.0,22.0,27.0,35.0,35.0,35.0,23.0,15.0,51.0,18.0,21.0,52.0,68.0,20.0,31.0,14.0,26.0,81.0,91.0,38.0,81.0,38.0,13.0,62.0,49.0,14.0,33.0,85.0,28.0,33.0,32.0,28.0,13.0,17.0,53.0,15.0,28.0,21.0,69.0,25.0,45.0,44.0,17.0,47.0,60.0,47.0,15.0,20.0,42.0,37.0,40.0,149.0,24.0,30.0,63.0,52.0,65.0,39.0,29.0,28.0,31.0,31.0,43.0,57.0,148.0,30.0,20.0,20.0,27.0,16.0,15.0,15.0,17.0,29.0,44.0,25.0,19.0,88.0,25.0,23.0,35.0,49.0,58.0,58.0,16.0,28.0,57.0,31.0,28.0,32.0,47.0,33.0,19.0,44.0,48.0,94.0,94.0,44.0,18.0,45.0,58.0,58.0,82.0,87.0,26.0,14.0,46.0,18.0,15.0,24.0,41.0,24.0,68.0,39.0,55.0,55.0,55.0,43.0,35.0,26.0,69.0,28.0,64.0,18.0,88.0,43.0,43.0,9.0,61.0,11.0,9.0,8.0,6.0,45.0,79.0,46.0,46.0,73.0,66.0,72.0,10.0,38.0,38.0,46.0,10.0,17.0,70.0,17.0,11.0,21.0,41.0,10.0,12.0,19.0,31.0,7.0,109.0,8.0,8.0,9.0,43.0,36.0,48.0,39.0,26.0,53.0,38.0,45.0,14.0,17.0,77.0,8.0,15.0,17.0,10.0,20.0,37.0,8.0,70.0,59.0,30.0,19.0,16.0,17.0,17.0,36.0,25.0,25.0,25.0,66.0,14.0,35.0,80.0,21.0,21.0,21.0,24.0,33.0,52.0,10.0,50.0,13.0,86.0,79.0,71.0,12.0,20.0,51.0,21.0,21.0,11.0,70.0,38.0,44.0,14.0,12.0,16.0,65.0,65.0,59.0,47.0,20.0,64.0,56.0,9.0,77.0,94.0,9.0,15.0,15.0,9.0,79.0,50.0,44.0,44.0,20.0,58.0,18.0,17.0,18.0,37.0,69.0,33.0,51.0,36.0,36.0,19.0,51.0,60.0,64.0,36.0,81.0,10.0,81.0,54.0,54.0,22.0,69.0,60.0,28.0,29.0,18.0,28.0,57.0,15.0,27.0,91.0,46.0,64.0,46.0,34.0,34.0,34.0,34.0,91.0,91.0,25.0,40.0,31.0,31.0,31.0,31.0,28.0,46.0,67.0,28.0,28.0,31.0,105.0,74.0,14.0,28.0,35.0,35.0,33.0,12.0,24.0,24.0,46.0,22.0,54.0,54.0,16.0,19.0,22.0,55.0,74.0,95.0,92.0,98.0,23.0,17.0,64.0,39.0,44.0,18.0,28.0,16.0,16.0,14.0,12.0,14.0,12.0,25.0,48.0,65.0,65.0,44.0,38.0,59.0,52.0,18.0,22.0,35.0,32.0,28.0,54.0,23.0,42.0,52.0,34.0,35.0,25.0,50.0,20.0,29.0,27.0,20.0,26.0,60.0,28.0,35.0,26.0,40.0,38.0,51.0],\"yaxis\":\"y\",\"type\":\"scatter\"}],\"name\":\"6\"},{\"data\":[{\"hovertemplate\":\"quality=7<br>free sulfur dioxide=%{x}<br>total sulfur dioxide=%{y}<extra></extra>\",\"legendgroup\":\"\",\"marker\":{\"color\":\"#636efa\",\"symbol\":\"circle\"},\"mode\":\"markers\",\"name\":\"\",\"orientation\":\"v\",\"showlegend\":false,\"x\":[15.0,9.0,35.0,13.0,3.0,9.0,9.0,9.0,19.0,10.0,10.0,14.0,10.0,5.0,10.0,20.0,20.0,21.0,6.0,17.0,7.0,12.0,12.0,10.0,7.0,7.0,6.0,6.0,7.0,12.0,6.0,32.0,6.0,32.0,6.0,6.0,5.0,5.0,12.0,13.0,38.0,38.0,6.0,10.0,6.0,23.0,6.0,6.0,5.0,10.0,10.0,23.0,21.0,14.0,4.0,16.0,4.0,36.0,36.0,9.0,16.0,17.0,7.0,17.0,17.0,16.0,16.0,11.0,53.0,10.0,9.0,13.0,11.0,11.0,6.0,10.0,10.0,6.0,6.0,5.0,25.0,7.0,9.0,6.0,4.0,13.0,12.0,12.0,7.0,12.0,12.0,12.0,5.0,26.0,25.0,9.0,3.0,30.0,3.0,13.0,3.0,19.0,37.5,37.5,3.0,22.0,22.0,11.0,10.0,23.0,13.0,18.0,10.0,6.0,6.0,45.0,16.0,12.0,29.0,11.0,5.0,24.0,24.0,24.0,14.0,18.0,3.0,35.0,21.0,11.0,15.0,8.0,37.0,7.0,31.0,31.0,16.0,16.0,15.0,13.0,12.0,15.0,24.0],\"xaxis\":\"x\",\"y\":[21.0,18.0,103.0,30.0,16.0,24.0,28.0,28.0,106.0,24.0,24.0,33.0,47.0,10.0,47.0,49.0,49.0,59.0,14.0,38.0,21.0,29.0,29.0,23.0,42.0,42.0,18.0,18.0,38.0,30.0,19.0,48.0,24.0,48.0,24.0,43.0,27.0,22.0,25.0,27.0,76.0,76.0,22.0,26.0,21.0,43.0,15.0,15.0,35.0,21.0,28.0,42.0,42.0,86.0,10.0,42.0,8.0,100.0,100.0,28.0,47.0,32.0,16.0,43.0,43.0,33.0,33.0,18.0,77.0,19.0,17.0,52.0,24.0,24.0,12.0,21.0,21.0,12.0,10.0,9.0,36.0,13.0,29.0,12.0,8.0,27.0,25.0,24.0,12.0,28.0,18.0,18.0,17.0,35.0,42.0,20.0,10.0,52.0,10.0,26.0,10.0,37.0,278.0,289.0,9.0,41.0,41.0,31.0,24.0,55.0,27.0,38.0,18.0,15.0,14.0,88.0,101.0,19.0,48.0,41.0,10.0,44.0,44.0,44.0,24.0,88.0,9.0,53.0,37.0,25.0,28.0,17.0,53.0,15.0,54.0,54.0,89.0,89.0,28.0,29.0,19.0,24.0,34.0],\"yaxis\":\"y\",\"type\":\"scatter\"}],\"name\":\"7\"},{\"data\":[{\"hovertemplate\":\"quality=4<br>free sulfur dioxide=%{x}<br>total sulfur dioxide=%{y}<extra></extra>\",\"legendgroup\":\"\",\"marker\":{\"color\":\"#636efa\",\"symbol\":\"circle\"},\"mode\":\"markers\",\"name\":\"\",\"orientation\":\"v\",\"showlegend\":false,\"x\":[17.0,8.0,11.0,27.0,41.0,32.0,9.0,17.0,4.0,12.0,12.0,26.0,26.0,6.0,11.0,5.0,22.0,4.0,4.0,5.0,36.0,28.0,11.0,23.0,5.0,12.0,11.0,17.0,3.0,14.0,6.0,19.0,6.0],\"xaxis\":\"x\",\"y\":[46.0,65.0,43.0,119.0,85.0,69.0,20.0,42.0,8.0,31.0,67.0,61.0,49.0,14.0,86.0,14.0,84.0,14.0,7.0,9.0,51.0,48.0,75.0,47.0,19.0,24.0,20.0,24.0,10.0,31.0,13.0,32.0,13.0],\"yaxis\":\"y\",\"type\":\"scatter\"}],\"name\":\"4\"},{\"data\":[{\"hovertemplate\":\"quality=8<br>free sulfur dioxide=%{x}<br>total sulfur dioxide=%{y}<extra></extra>\",\"legendgroup\":\"\",\"marker\":{\"color\":\"#636efa\",\"symbol\":\"circle\"},\"mode\":\"markers\",\"name\":\"\",\"orientation\":\"v\",\"showlegend\":false,\"x\":[15.0,5.0,12.0,6.0,6.0,6.0,5.0,5.0,19.0,7.0,42.0,8.0,6.0,3.0,15.0,17.0],\"xaxis\":\"x\",\"y\":[37.0,13.0,88.0,29.0,19.0,17.0,16.0,16.0,50.0,16.0,74.0,17.0,12.0,13.0,29.0,24.0],\"yaxis\":\"y\",\"type\":\"scatter\"}],\"name\":\"8\"},{\"data\":[{\"hovertemplate\":\"quality=3<br>free sulfur dioxide=%{x}<br>total sulfur dioxide=%{y}<extra></extra>\",\"legendgroup\":\"\",\"marker\":{\"color\":\"#636efa\",\"symbol\":\"circle\"},\"mode\":\"markers\",\"name\":\"\",\"orientation\":\"v\",\"showlegend\":false,\"x\":[10.0,5.0,5.0,20.0,3.0,6.0],\"xaxis\":\"x\",\"y\":[47.0,16.0,9.0,49.0,14.0,12.0],\"yaxis\":\"y\",\"type\":\"scatter\"}],\"name\":\"3\"}]);\n",
       "                        }).then(function(){\n",
       "                            \n",
       "var gd = document.getElementById('528bbffc-e1b0-4a92-ab78-939a1eb68eee');\n",
       "var x = new MutationObserver(function (mutations, observer) {{\n",
       "        var display = window.getComputedStyle(gd).display;\n",
       "        if (!display || display === 'none') {{\n",
       "            console.log([gd, 'removed!']);\n",
       "            Plotly.purge(gd);\n",
       "            observer.disconnect();\n",
       "        }}\n",
       "}});\n",
       "\n",
       "// Listen for the removal of the full notebook cells\n",
       "var notebookContainer = gd.closest('#notebook-container');\n",
       "if (notebookContainer) {{\n",
       "    x.observe(notebookContainer, {childList: true});\n",
       "}}\n",
       "\n",
       "// Listen for the clearing of the current output cell\n",
       "var outputEl = gd.closest('.output');\n",
       "if (outputEl) {{\n",
       "    x.observe(outputEl, {childList: true});\n",
       "}}\n",
       "\n",
       "                        })                };                });            </script>        </div>"
      ]
     },
     "metadata": {},
     "output_type": "display_data"
    }
   ],
   "source": [
    "# using graph interactive the show the effect free and total - sulfur dioxide in the quality\n",
    "\n",
    "px.scatter(df, x=\"free sulfur dioxide\", y=\"total sulfur dioxide\",animation_frame=\"quality\")\n"
   ]
  },
  {
   "cell_type": "markdown",
   "id": "88278e29",
   "metadata": {
    "papermill": {
     "duration": 0.059405,
     "end_time": "2022-02-13T19:55:00.981926",
     "exception": false,
     "start_time": "2022-02-13T19:55:00.922521",
     "status": "completed"
    },
    "tags": []
   },
   "source": [
    "# Analysis Results\n",
    "\n",
    "\n",
    "### We have 5 types of quality in DataSet -  3 to 8\n",
    "- The Best quality 8\n",
    "- The less quality 3 \n",
    "\n",
    "### The elements highest  effect on the quality of wine: \n",
    "- 1 - Alcohol\n",
    "- 2 - Free sulfur dioxide\n",
    "- 3 - Total sulfur dioxide\n",
    "\n",
    "### The elements lessest or a simple  effect on the quality of wine: \n",
    "\n",
    "- 1 - Fixed acidity\n",
    "- 2 - Volatile acidity\n",
    "- 3 - Citric acid\n",
    "- 4 - Residual sugar\n",
    "- 5 - Chlorides\n",
    "- 6 - Density\n",
    "- 7 - PH\n",
    "- 8 - Sulphates\n",
    "\n",
    "### If making wine, please pay attention to these items.\n"
   ]
  },
  {
   "cell_type": "markdown",
   "id": "8b50411a",
   "metadata": {
    "papermill": {
     "duration": 0.061135,
     "end_time": "2022-02-13T19:55:01.102223",
     "exception": false,
     "start_time": "2022-02-13T19:55:01.041088",
     "status": "completed"
    },
    "tags": []
   },
   "source": [
    "# 2 -Building a Machine Learning Model"
   ]
  },
  {
   "cell_type": "markdown",
   "id": "a8156ddf",
   "metadata": {
    "papermill": {
     "duration": 0.059774,
     "end_time": "2022-02-13T19:55:01.222001",
     "exception": false,
     "start_time": "2022-02-13T19:55:01.162227",
     "status": "completed"
    },
    "tags": []
   },
   "source": []
  },
  {
   "cell_type": "code",
   "execution_count": 21,
   "id": "5d8ba53e",
   "metadata": {
    "execution": {
     "iopub.execute_input": "2022-02-13T19:55:01.343936Z",
     "iopub.status.busy": "2022-02-13T19:55:01.343287Z",
     "iopub.status.idle": "2022-02-13T19:55:01.642306Z",
     "shell.execute_reply": "2022-02-13T19:55:01.642858Z",
     "shell.execute_reply.started": "2022-02-13T19:17:33.508124Z"
    },
    "papermill": {
     "duration": 0.36141,
     "end_time": "2022-02-13T19:55:01.643026",
     "exception": false,
     "start_time": "2022-02-13T19:55:01.281616",
     "status": "completed"
    },
    "tags": []
   },
   "outputs": [],
   "source": [
    "#Importing the basic librarires for building model\n",
    "\n",
    "\n",
    "from sklearn.linear_model import LinearRegression ,LogisticRegression\n",
    "from sklearn.model_selection import train_test_split\n",
    "from sklearn.metrics import mean_absolute_error ,mean_squared_error, median_absolute_error,confusion_matrix,accuracy_score\n",
    "\n",
    "from sklearn.tree import DecisionTreeClassifier\n",
    "from sklearn.neighbors import KNeighborsClassifier\n",
    "\n",
    "from sklearn.svm import SVC ,SVR\n",
    "\n"
   ]
  },
  {
   "cell_type": "code",
   "execution_count": 22,
   "id": "3f08c066",
   "metadata": {
    "execution": {
     "iopub.execute_input": "2022-02-13T19:55:01.765017Z",
     "iopub.status.busy": "2022-02-13T19:55:01.764392Z",
     "iopub.status.idle": "2022-02-13T19:55:01.768622Z",
     "shell.execute_reply": "2022-02-13T19:55:01.769055Z",
     "shell.execute_reply.started": "2022-02-13T19:17:48.910571Z"
    },
    "papermill": {
     "duration": 0.066673,
     "end_time": "2022-02-13T19:55:01.769289",
     "exception": false,
     "start_time": "2022-02-13T19:55:01.702616",
     "status": "completed"
    },
    "tags": []
   },
   "outputs": [],
   "source": [
    "#Defined X value and y value , and split the data train\n",
    "\n",
    "X = df.drop(columns=\"quality\")           \n",
    "y = df[\"quality\"]    # y = quality"
   ]
  },
  {
   "cell_type": "code",
   "execution_count": 23,
   "id": "05977e77",
   "metadata": {
    "execution": {
     "iopub.execute_input": "2022-02-13T19:55:01.895483Z",
     "iopub.status.busy": "2022-02-13T19:55:01.894458Z",
     "iopub.status.idle": "2022-02-13T19:55:01.901527Z",
     "shell.execute_reply": "2022-02-13T19:55:01.902248Z",
     "shell.execute_reply.started": "2022-02-13T19:18:26.948153Z"
    },
    "papermill": {
     "duration": 0.073771,
     "end_time": "2022-02-13T19:55:01.902470",
     "exception": false,
     "start_time": "2022-02-13T19:55:01.828699",
     "status": "completed"
    },
    "tags": []
   },
   "outputs": [
    {
     "name": "stdout",
     "output_type": "stream",
     "text": [
      "X Train :  (857, 11)\n",
      "X Test  :  (286, 11)\n",
      "Y Train :  (857,)\n",
      "Y Test  :  (286,)\n"
     ]
    }
   ],
   "source": [
    "# split the data train and test\n",
    "X_train, X_test, y_train, y_test = train_test_split(X, y, test_size=0.25, random_state=42)\n",
    "\n",
    "print(\"X Train : \", X_train.shape)\n",
    "print(\"X Test  : \", X_test.shape)\n",
    "print(\"Y Train : \", y_train.shape)\n",
    "print(\"Y Test  : \", y_test.shape)"
   ]
  },
  {
   "cell_type": "markdown",
   "id": "cc7d0150",
   "metadata": {
    "papermill": {
     "duration": 0.060198,
     "end_time": "2022-02-13T19:55:02.023728",
     "exception": false,
     "start_time": "2022-02-13T19:55:01.963530",
     "status": "completed"
    },
    "tags": []
   },
   "source": [
    "### 1 -linear_model"
   ]
  },
  {
   "cell_type": "code",
   "execution_count": 24,
   "id": "69eddece",
   "metadata": {
    "execution": {
     "iopub.execute_input": "2022-02-13T19:55:02.168454Z",
     "iopub.status.busy": "2022-02-13T19:55:02.167685Z",
     "iopub.status.idle": "2022-02-13T19:55:02.196449Z",
     "shell.execute_reply": "2022-02-13T19:55:02.197422Z",
     "shell.execute_reply.started": "2022-02-13T19:19:43.159241Z"
    },
    "papermill": {
     "duration": 0.110795,
     "end_time": "2022-02-13T19:55:02.197713",
     "exception": false,
     "start_time": "2022-02-13T19:55:02.086918",
     "status": "completed"
    },
    "tags": []
   },
   "outputs": [
    {
     "data": {
      "text/plain": [
       "LinearRegression()"
      ]
     },
     "execution_count": 24,
     "metadata": {},
     "output_type": "execute_result"
    }
   ],
   "source": [
    "# using the model LinearRegression\n",
    "LR_model=LinearRegression()\n",
    "\n",
    "# fit model\n",
    "LR_model.fit(X_train,y_train)\n",
    "\n"
   ]
  },
  {
   "cell_type": "code",
   "execution_count": 25,
   "id": "22e7d05b",
   "metadata": {
    "execution": {
     "iopub.execute_input": "2022-02-13T19:55:02.374099Z",
     "iopub.status.busy": "2022-02-13T19:55:02.373006Z",
     "iopub.status.idle": "2022-02-13T19:55:02.390724Z",
     "shell.execute_reply": "2022-02-13T19:55:02.392143Z",
     "shell.execute_reply.started": "2022-02-13T19:20:54.174372Z"
    },
    "papermill": {
     "duration": 0.08677,
     "end_time": "2022-02-13T19:55:02.392437",
     "exception": false,
     "start_time": "2022-02-13T19:55:02.305667",
     "status": "completed"
    },
    "tags": []
   },
   "outputs": [
    {
     "name": "stdout",
     "output_type": "stream",
     "text": [
      "Score the X-train with Y-train is :  0.3766893166865495\n",
      "Score the X-test  with Y-test  is :  0.3487901433645896\n",
      " Model Evaluation Linear R : mean absolute error is  0.4742577332205526\n",
      " Model Evaluation Linear R : mean squared  error is  0.37215517566167367\n",
      " Model Evaluation Linear R : median absolute error is  0.3771988566534432\n"
     ]
    }
   ],
   "source": [
    "# Score X and Y - test and train\n",
    "\n",
    "print(\"Score the X-train with Y-train is : \", LR_model.score(X_train,y_train))\n",
    "print(\"Score the X-test  with Y-test  is : \", LR_model.score(X_test,y_test))\n",
    "\n",
    "# Expected value Y using X test\n",
    "y_pred_LR=LR_model.predict(X_test)\n",
    "\n",
    "# Model Evaluation\n",
    "print( \" Model Evaluation Linear R : mean absolute error is \", mean_absolute_error(y_test,y_pred_LR))\n",
    "print(\" Model Evaluation Linear R : mean squared  error is \" , mean_squared_error(y_test,y_pred_LR))\n",
    "print(\" Model Evaluation Linear R : median absolute error is \" ,median_absolute_error(y_test,y_pred_LR)) "
   ]
  },
  {
   "cell_type": "code",
   "execution_count": 26,
   "id": "faecac0f",
   "metadata": {
    "execution": {
     "iopub.execute_input": "2022-02-13T19:55:02.572806Z",
     "iopub.status.busy": "2022-02-13T19:55:02.565875Z",
     "iopub.status.idle": "2022-02-13T19:55:02.601123Z",
     "shell.execute_reply": "2022-02-13T19:55:02.601708Z",
     "shell.execute_reply.started": "2022-02-13T19:22:46.038296Z"
    },
    "papermill": {
     "duration": 0.099531,
     "end_time": "2022-02-13T19:55:02.601888",
     "exception": false,
     "start_time": "2022-02-13T19:55:02.502357",
     "status": "completed"
    },
    "tags": []
   },
   "outputs": [
    {
     "name": "stdout",
     "output_type": "stream",
     "text": [
      "Score the X-train with Y-train is :  0.5869311551925321\n",
      "Score the X-test  with Y-test  is :  0.6258741258741258\n",
      " Model Evaluation Logistic R : mean absolute error is  0.4020979020979021\n",
      " Model Evaluation Logistic R : mean squared  error is  0.458041958041958\n",
      " Model Evaluation Logistic R : median absolute error is  0.0\n",
      " Model Evaluation Logistic R : accuracy score  0.6258741258741258\n"
     ]
    }
   ],
   "source": [
    "# using the model Logistic Regression\n",
    "\n",
    "Lo_model=LogisticRegression(solver='liblinear')\n",
    "\n",
    "# fit model\n",
    "\n",
    "Lo_model.fit(X_train,y_train)\n",
    "\n",
    "\n",
    "# Score X and Y - test and train model Logistic Regression\n",
    "\n",
    "print(\"Score the X-train with Y-train is : \", Lo_model.score(X_train,y_train))\n",
    "print(\"Score the X-test  with Y-test  is : \", Lo_model.score(X_test,y_test))\n",
    "\n",
    "# Expected value Y using X test\n",
    "y_pred_Lo=Lo_model.predict(X_test)\n",
    "\n",
    "# Model Evaluation\n",
    "print( \" Model Evaluation Logistic R : mean absolute error is \", mean_absolute_error(y_test,y_pred_Lo))\n",
    "print(\" Model Evaluation Logistic R : mean squared  error is \" , mean_squared_error(y_test,y_pred_Lo))\n",
    "print(\" Model Evaluation Logistic R : median absolute error is \" ,median_absolute_error(y_test,y_pred_Lo)) \n",
    "\n",
    "print(\" Model Evaluation Logistic R : accuracy score \" , accuracy_score(y_test,y_pred_Lo))\n"
   ]
  },
  {
   "cell_type": "markdown",
   "id": "74fab2d6",
   "metadata": {
    "papermill": {
     "duration": 0.060696,
     "end_time": "2022-02-13T19:55:02.723673",
     "exception": false,
     "start_time": "2022-02-13T19:55:02.662977",
     "status": "completed"
    },
    "tags": []
   },
   "source": [
    "### Decision Tree Classifier"
   ]
  },
  {
   "cell_type": "code",
   "execution_count": 27,
   "id": "d2cc6ea9",
   "metadata": {
    "execution": {
     "iopub.execute_input": "2022-02-13T19:55:02.849786Z",
     "iopub.status.busy": "2022-02-13T19:55:02.849161Z",
     "iopub.status.idle": "2022-02-13T19:55:02.867781Z",
     "shell.execute_reply": "2022-02-13T19:55:02.867143Z",
     "shell.execute_reply.started": "2022-02-13T19:24:25.497377Z"
    },
    "papermill": {
     "duration": 0.08245,
     "end_time": "2022-02-13T19:55:02.867920",
     "exception": false,
     "start_time": "2022-02-13T19:55:02.785470",
     "status": "completed"
    },
    "tags": []
   },
   "outputs": [
    {
     "name": "stdout",
     "output_type": "stream",
     "text": [
      "Score the X-train with Y-train is :  0.9229871645274212\n",
      "Score the X-test  with Y-test  is :  0.5384615384615384\n"
     ]
    }
   ],
   "source": [
    "# using the model Decision Tree Classifier\n",
    "Tree_model=DecisionTreeClassifier(max_depth=10)\n",
    "# fit model\n",
    "Tree_model.fit(X_train,y_train)\n",
    "\n",
    "# Score X and Y - test and train\n",
    "\n",
    "print(\"Score the X-train with Y-train is : \", Tree_model.score(X_train,y_train))\n",
    "print(\"Score the X-test  with Y-test  is : \", Tree_model.score(X_test,y_test))"
   ]
  },
  {
   "cell_type": "code",
   "execution_count": 28,
   "id": "2e0494de",
   "metadata": {
    "execution": {
     "iopub.execute_input": "2022-02-13T19:55:02.995292Z",
     "iopub.status.busy": "2022-02-13T19:55:02.994330Z",
     "iopub.status.idle": "2022-02-13T19:55:02.999446Z",
     "shell.execute_reply": "2022-02-13T19:55:03.000064Z",
     "shell.execute_reply.started": "2022-02-13T19:24:50.519117Z"
    },
    "papermill": {
     "duration": 0.070815,
     "end_time": "2022-02-13T19:55:03.000258",
     "exception": false,
     "start_time": "2022-02-13T19:55:02.929443",
     "status": "completed"
    },
    "tags": []
   },
   "outputs": [
    {
     "name": "stdout",
     "output_type": "stream",
     "text": [
      "The Important columns \n",
      " [0.07306318 0.10444148 0.05945344 0.09513354 0.06522804 0.07568275\n",
      " 0.09734605 0.03962314 0.05202914 0.13524835 0.20275088]\n"
     ]
    }
   ],
   "source": [
    "print(\"The Important columns \\n\",Tree_model.feature_importances_)\n"
   ]
  },
  {
   "cell_type": "code",
   "execution_count": 29,
   "id": "5436832a",
   "metadata": {
    "execution": {
     "iopub.execute_input": "2022-02-13T19:55:03.134507Z",
     "iopub.status.busy": "2022-02-13T19:55:03.133809Z",
     "iopub.status.idle": "2022-02-13T19:55:03.136391Z",
     "shell.execute_reply": "2022-02-13T19:55:03.136897Z",
     "shell.execute_reply.started": "2022-02-13T19:25:07.791018Z"
    },
    "papermill": {
     "duration": 0.074745,
     "end_time": "2022-02-13T19:55:03.137058",
     "exception": false,
     "start_time": "2022-02-13T19:55:03.062313",
     "status": "completed"
    },
    "tags": []
   },
   "outputs": [
    {
     "data": {
      "text/html": [
       "<div>\n",
       "<style scoped>\n",
       "    .dataframe tbody tr th:only-of-type {\n",
       "        vertical-align: middle;\n",
       "    }\n",
       "\n",
       "    .dataframe tbody tr th {\n",
       "        vertical-align: top;\n",
       "    }\n",
       "\n",
       "    .dataframe thead th {\n",
       "        text-align: right;\n",
       "    }\n",
       "</style>\n",
       "<table border=\"1\" class=\"dataframe\">\n",
       "  <thead>\n",
       "    <tr style=\"text-align: right;\">\n",
       "      <th></th>\n",
       "      <th>fixed acidity</th>\n",
       "      <th>volatile acidity</th>\n",
       "      <th>citric acid</th>\n",
       "      <th>residual sugar</th>\n",
       "      <th>chlorides</th>\n",
       "      <th>free sulfur dioxide</th>\n",
       "      <th>total sulfur dioxide</th>\n",
       "      <th>density</th>\n",
       "      <th>pH</th>\n",
       "      <th>sulphates</th>\n",
       "      <th>alcohol</th>\n",
       "      <th>quality</th>\n",
       "    </tr>\n",
       "  </thead>\n",
       "  <tbody>\n",
       "  </tbody>\n",
       "</table>\n",
       "</div>"
      ],
      "text/plain": [
       "Empty DataFrame\n",
       "Columns: [fixed acidity, volatile acidity, citric acid, residual sugar, chlorides, free sulfur dioxide, total sulfur dioxide, density, pH, sulphates, alcohol, quality]\n",
       "Index: []"
      ]
     },
     "execution_count": 29,
     "metadata": {},
     "output_type": "execute_result"
    }
   ],
   "source": [
    "df.head(0)"
   ]
  },
  {
   "cell_type": "markdown",
   "id": "1960ba8e",
   "metadata": {
    "papermill": {
     "duration": 0.061949,
     "end_time": "2022-02-13T19:55:03.261396",
     "exception": false,
     "start_time": "2022-02-13T19:55:03.199447",
     "status": "completed"
    },
    "tags": []
   },
   "source": [
    "- Note, the  feature importances for quality in the DecisionTree , column Alcohol = 19% ,we said in analysis"
   ]
  },
  {
   "cell_type": "code",
   "execution_count": 30,
   "id": "ed26bc7c",
   "metadata": {
    "execution": {
     "iopub.execute_input": "2022-02-13T19:55:03.394721Z",
     "iopub.status.busy": "2022-02-13T19:55:03.393730Z",
     "iopub.status.idle": "2022-02-13T19:55:03.398372Z",
     "shell.execute_reply": "2022-02-13T19:55:03.397830Z",
     "shell.execute_reply.started": "2022-02-13T19:29:49.390267Z"
    },
    "papermill": {
     "duration": 0.074089,
     "end_time": "2022-02-13T19:55:03.398510",
     "exception": false,
     "start_time": "2022-02-13T19:55:03.324421",
     "status": "completed"
    },
    "tags": []
   },
   "outputs": [
    {
     "name": "stdout",
     "output_type": "stream",
     "text": [
      "The classes  [3 4 5 6 7 8]\n",
      " Model Evaluation Decision Tree : accuracy score  0.5384615384615384\n"
     ]
    }
   ],
   "source": [
    "print(\"The classes \",Tree_model.classes_)\n",
    "\n",
    "y_pred_T =Tree_model.predict(X_test)\n",
    "\n",
    "print(\" Model Evaluation Decision Tree : accuracy score \" , accuracy_score(y_test,y_pred_T))\n"
   ]
  },
  {
   "cell_type": "markdown",
   "id": "d370711a",
   "metadata": {
    "papermill": {
     "duration": 0.062861,
     "end_time": "2022-02-13T19:55:03.526328",
     "exception": false,
     "start_time": "2022-02-13T19:55:03.463467",
     "status": "completed"
    },
    "tags": []
   },
   "source": [
    "### model SVM"
   ]
  },
  {
   "cell_type": "code",
   "execution_count": 31,
   "id": "e1716fa9",
   "metadata": {
    "execution": {
     "iopub.execute_input": "2022-02-13T19:55:03.661451Z",
     "iopub.status.busy": "2022-02-13T19:55:03.660745Z",
     "iopub.status.idle": "2022-02-13T19:55:03.777484Z",
     "shell.execute_reply": "2022-02-13T19:55:03.776891Z",
     "shell.execute_reply.started": "2022-02-13T19:31:43.718459Z"
    },
    "papermill": {
     "duration": 0.187965,
     "end_time": "2022-02-13T19:55:03.777649",
     "exception": false,
     "start_time": "2022-02-13T19:55:03.589684",
     "status": "completed"
    },
    "tags": []
   },
   "outputs": [
    {
     "name": "stdout",
     "output_type": "stream",
     "text": [
      "Score the X-train with Y-train is :  0.5950991831971996\n",
      "Score the X-test  with Y-test  is :  0.6433566433566433\n",
      " Model Evaluation Decision Tree : accuracy score  0.6433566433566433\n"
     ]
    }
   ],
   "source": [
    "# using the model SVC\n",
    "svc_model=SVC(C=50,kernel=\"rbf\")\n",
    "\n",
    "# fit model\n",
    "svc_model.fit(X_train,y_train)\n",
    "\n",
    "y_pred_svc =svc_model.predict(X_test)\n",
    "\n",
    "print(\"Score the X-train with Y-train is : \", svc_model.score(X_train,y_train))\n",
    "print(\"Score the X-test  with Y-test  is : \", svc_model.score(X_test,y_test))\n",
    "print(\" Model Evaluation Decision Tree : accuracy score \" , accuracy_score(y_test,y_pred_svc))\n"
   ]
  },
  {
   "cell_type": "code",
   "execution_count": 32,
   "id": "3ffa6f8f",
   "metadata": {
    "execution": {
     "iopub.execute_input": "2022-02-13T19:55:03.914790Z",
     "iopub.status.busy": "2022-02-13T19:55:03.914097Z",
     "iopub.status.idle": "2022-02-13T19:55:04.017301Z",
     "shell.execute_reply": "2022-02-13T19:55:04.016779Z",
     "shell.execute_reply.started": "2022-02-13T19:33:07.317938Z"
    },
    "papermill": {
     "duration": 0.175294,
     "end_time": "2022-02-13T19:55:04.017448",
     "exception": false,
     "start_time": "2022-02-13T19:55:03.842154",
     "status": "completed"
    },
    "tags": []
   },
   "outputs": [
    {
     "name": "stdout",
     "output_type": "stream",
     "text": [
      "Score the X-train with Y-train is :  0.14069185408666396\n",
      "Score the X-test  with Y-test  is :  0.23501709956140815\n",
      " Model Evaluation Decision Tree : accuracy score  0.6433566433566433\n"
     ]
    }
   ],
   "source": [
    "# using the model SVR\n",
    "\n",
    "svr_model=SVR(degree=1,coef0=1, tol=0.001, C=1.5,epsilon=0.001)\n",
    "\n",
    "# fit model\n",
    "svr_model.fit(X_train,y_train)\n",
    "\n",
    "y_pred_svr =svc_model.predict(X_test)\n",
    "\n",
    "print(\"Score the X-train with Y-train is : \", svr_model.score(X_train,y_train))\n",
    "print(\"Score the X-test  with Y-test  is : \", svr_model.score(X_test,y_test))\n",
    "print(\" Model Evaluation Decision Tree : accuracy score \" , accuracy_score(y_test,y_pred_svr))\n",
    "\n"
   ]
  },
  {
   "cell_type": "markdown",
   "id": "ed0c6eec",
   "metadata": {
    "papermill": {
     "duration": 0.06448,
     "end_time": "2022-02-13T19:55:04.145917",
     "exception": false,
     "start_time": "2022-02-13T19:55:04.081437",
     "status": "completed"
    },
    "tags": []
   },
   "source": [
    "### neighbors model"
   ]
  },
  {
   "cell_type": "code",
   "execution_count": 33,
   "id": "85384fd4",
   "metadata": {
    "execution": {
     "iopub.execute_input": "2022-02-13T19:55:04.291040Z",
     "iopub.status.busy": "2022-02-13T19:55:04.290397Z",
     "iopub.status.idle": "2022-02-13T19:55:04.353070Z",
     "shell.execute_reply": "2022-02-13T19:55:04.352548Z",
     "shell.execute_reply.started": "2022-02-13T19:36:10.556286Z"
    },
    "papermill": {
     "duration": 0.143764,
     "end_time": "2022-02-13T19:55:04.353257",
     "exception": false,
     "start_time": "2022-02-13T19:55:04.209493",
     "status": "completed"
    },
    "tags": []
   },
   "outputs": [
    {
     "name": "stdout",
     "output_type": "stream",
     "text": [
      "Score the X-train with Y-train is :  0.6289381563593932\n",
      "Score the X-test  with Y-test  is :  0.5314685314685315\n",
      " Model Evaluation K Neighbors Classifier : accuracy score  0.5314685314685315\n"
     ]
    }
   ],
   "source": [
    "# using the model K Neighbors Classifier\n",
    "\n",
    "K_model = KNeighborsClassifier(n_neighbors = 5)\n",
    "K_model.fit(X_train, y_train)\n",
    "\n",
    "y_pred_k = K_model.predict(X_test)\n",
    "\n",
    "print(\"Score the X-train with Y-train is : \", K_model.score(X_train,y_train))\n",
    "print(\"Score the X-test  with Y-test  is : \", K_model.score(X_test,y_test))\n",
    "print(\" Model Evaluation K Neighbors Classifier : accuracy score \" , accuracy_score(y_test,y_pred_k))"
   ]
  },
  {
   "cell_type": "markdown",
   "id": "395f9efb",
   "metadata": {
    "papermill": {
     "duration": 0.06495,
     "end_time": "2022-02-13T19:55:04.482864",
     "exception": false,
     "start_time": "2022-02-13T19:55:04.417914",
     "status": "completed"
    },
    "tags": []
   },
   "source": [
    "# Model building results\n",
    "\n",
    "## These models were selected and evaluated:\n",
    "\n",
    "### linear_model \n",
    "#### 1- LinearRegression\n",
    "- Score the X-train with Y-train is :  0.37%\n",
    "- Score the X-test  with Y-test  is :  0.34%\n",
    "- Mean absolute error is  0.47%\n",
    "- Mean squared  error is  0.37%\n",
    "- Median absolute error is  0.37%\n",
    "\n",
    "####  2- LogisticRegression\n",
    "\n",
    "- Score the X-train with Y-train is :  0.58%\n",
    "- Score the X-test  with Y-test  is :  0.62%\n",
    "- Mean absolute error is  0.40%\n",
    "- Mean squared  error is  0.45%\n",
    "- Median absolute error is  0.0\n",
    "- Accuracy score  0.625%\n",
    "\n",
    "\n",
    "## Decision Tree Classifier\n",
    "\n",
    "- Score the X-train with Y-train is :  0.92%\n",
    "- Score the X-test  with Y-test  is :  0.54%\n",
    "- Accuracy score  0.54%\n",
    "\n",
    "## Model SVM\n",
    "\n",
    "#### 1- SVC\n",
    "- Score the X-train with Y-train is :  0.59%\n",
    "- Score the X-test  with Y-test  is :  0.64%\n",
    "- Accuracy score  0.64%\n",
    "\n",
    "#### 2-SVR\n",
    "- Score the X-train with Y-train is :  0.14%\n",
    "- Score the X-test  with Y-test  is :  0.23%\n",
    "- Accuracy score  0.64%\n",
    "\n",
    "\n",
    "\n",
    "## Neighbors model\n",
    "\n",
    "- Score the X-train with Y-train is :  0.62%\n",
    "- Score the X-test  with Y-test  is :  0.53%\n",
    "- Accuracy score  0.53%"
   ]
  },
  {
   "cell_type": "markdown",
   "id": "41b55663",
   "metadata": {
    "papermill": {
     "duration": 0.064059,
     "end_time": "2022-02-13T19:55:04.611777",
     "exception": false,
     "start_time": "2022-02-13T19:55:04.547718",
     "status": "completed"
    },
    "tags": []
   },
   "source": [
    "# The End\n",
    "Thank for reading my analysis , if you any questions or advice me please write in the comment ."
   ]
  },
  {
   "cell_type": "markdown",
   "id": "68a8fad8",
   "metadata": {
    "papermill": {
     "duration": 0.063398,
     "end_time": "2022-02-13T19:55:04.739683",
     "exception": false,
     "start_time": "2022-02-13T19:55:04.676285",
     "status": "completed"
    },
    "tags": []
   },
   "source": [
    "# Vote\n",
    "If you liked my work  vote me ,"
   ]
  },
  {
   "cell_type": "markdown",
   "id": "05379052",
   "metadata": {
    "papermill": {
     "duration": 0.064137,
     "end_time": "2022-02-13T19:55:04.869602",
     "exception": false,
     "start_time": "2022-02-13T19:55:04.805465",
     "status": "completed"
    },
    "tags": []
   },
   "source": []
  }
 ],
 "metadata": {
  "kernelspec": {
   "display_name": "Python 3",
   "language": "python",
   "name": "python3"
  },
  "language_info": {
   "codemirror_mode": {
    "name": "ipython",
    "version": 3
   },
   "file_extension": ".py",
   "mimetype": "text/x-python",
   "name": "python",
   "nbconvert_exporter": "python",
   "pygments_lexer": "ipython3",
   "version": "3.7.12"
  },
  "papermill": {
   "default_parameters": {},
   "duration": 24.126487,
   "end_time": "2022-02-13T19:55:05.845152",
   "environment_variables": {},
   "exception": null,
   "input_path": "__notebook__.ipynb",
   "output_path": "__notebook__.ipynb",
   "parameters": {},
   "start_time": "2022-02-13T19:54:41.718665",
   "version": "2.3.3"
  }
 },
 "nbformat": 4,
 "nbformat_minor": 5
}
